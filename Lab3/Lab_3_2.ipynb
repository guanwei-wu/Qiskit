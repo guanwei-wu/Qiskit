{
 "cells": [
  {
   "cell_type": "code",
   "execution_count": 1,
   "id": "32aca23f",
   "metadata": {},
   "outputs": [],
   "source": [
    "# Reference: Qiskit Textbook"
   ]
  },
  {
   "cell_type": "code",
   "execution_count": 2,
   "id": "1c9881ca",
   "metadata": {},
   "outputs": [],
   "source": [
    "# initialization\n",
    "import numpy as np\n",
    "\n",
    "# importing Qiskit\n",
    "from qiskit import IBMQ, Aer\n",
    "from qiskit.providers.ibmq import least_busy\n",
    "from qiskit import QuantumCircuit, assemble, transpile\n",
    "\n",
    "# import basic plot tools\n",
    "from qiskit.visualization import plot_histogram\n",
    "\n",
    "import qiskit\n",
    "import numpy as np\n",
    "from qiskit import *\n",
    "from qiskit import QuantumCircuit, execute, Aer\n",
    "from qiskit.visualization import plot_histogram, plot_bloch_multivector\n",
    "from math import sqrt, pi\n",
    "\n",
    "from qiskit.tools.visualization import plot_histogram\n",
    "from qiskit.quantum_info import random_statevector, Statevector, partial_trace"
   ]
  },
  {
   "cell_type": "markdown",
   "id": "bdb5ebbd",
   "metadata": {},
   "source": [
    "# 2(a)"
   ]
  },
  {
   "cell_type": "code",
   "execution_count": 3,
   "id": "69884a44",
   "metadata": {},
   "outputs": [
    {
     "name": "stdout",
     "output_type": "stream",
     "text": [
      "Statevector([-0.03161768-0.09680218j,  0.10654992-0.31894151j,\n",
      "              0.00412817-0.17300302j,  0.08186704-0.33820136j,\n",
      "             -0.01337534-0.03893508j,  0.12806795+0.35824117j,\n",
      "             -0.19840427+0.05639172j, -0.150033  +0.11847563j,\n",
      "              0.03161768+0.09680218j, -0.10654992+0.31894151j,\n",
      "             -0.00412817+0.17300302j, -0.08186704+0.33820136j,\n",
      "              0.01337534+0.03893508j, -0.12806795-0.35824117j,\n",
      "              0.19840427-0.05639172j,  0.150033  -0.11847563j],\n",
      "            dims=(2, 2, 2, 2))\n"
     ]
    }
   ],
   "source": [
    "N = 8\n",
    "n = 3\n",
    "\n",
    "ini_ckt = QuantumCircuit(n+1)\n",
    "INIT_DATA = random_statevector(N).data\n",
    "ini_ckt.initialize(INIT_DATA, [0, 1, 2])\n",
    "ini_ckt.initialize([1/np.sqrt(2), -1/np.sqrt(2)], 3)\n",
    "simulator = Aer.get_backend('statevector_simulator')\n",
    "job = execute(ini_ckt, simulator)\n",
    "result = job.result()\n",
    "statevector = result.get_statevector()\n",
    "\n",
    "print(statevector)"
   ]
  },
  {
   "cell_type": "code",
   "execution_count": 4,
   "id": "f9f927a5",
   "metadata": {},
   "outputs": [],
   "source": [
    "# ini_ckt.draw()"
   ]
  },
  {
   "cell_type": "code",
   "execution_count": 5,
   "id": "36c6d1f9",
   "metadata": {},
   "outputs": [
    {
     "data": {
      "text/html": [
       "<pre style=\"word-wrap: normal;white-space: pre;background: #fff0;line-height: 1.1;font-family: &quot;Courier New&quot;,Courier,monospace\">     »\n",
       "q_0: »\n",
       "     »\n",
       "q_1: »\n",
       "     »\n",
       "q_2: »\n",
       "     »\n",
       "q_3: »\n",
       "     »\n",
       "«     ┌──────────────────────────────────────────────────────────────────────────────────────────────────────────────────────────────────────────────────────────────┐»\n",
       "«q_0: ┤0                                                                                                                                                             ├»\n",
       "«     │                                                                                                                                                              │»\n",
       "«q_1: ┤1 Initialize(-0.044714-0.1369j,0.15068-0.45105j,0.0058381-0.24466j,0.11578-0.47829j,-0.018916-0.055063j,0.18112+0.50663j,-0.28059+0.07975j,-0.21218+0.16755j) ├»\n",
       "«     │                                                                                                                                                              │»\n",
       "«q_2: ┤2                                                                                                                                                             ├»\n",
       "«     └───────────────────────────────────────────────────────────────┬──────────────────────────────┬───────────────────────────────────────────────────────────────┘»\n",
       "«q_3: ────────────────────────────────────────────────────────────────┤ Initialize(0.70711,-0.70711) ├────────────────────────────────────────────────────────────────»\n",
       "«                                                                     └──────────────────────────────┘                                                                »\n",
       "«      ░ ┌───┐     ┌───┐ ░ \n",
       "«q_0: ─░─┤ X ├──■──┤ X ├─░─\n",
       "«      ░ └───┘  │  └───┘ ░ \n",
       "«q_1: ─░────────■────────░─\n",
       "«      ░        │        ░ \n",
       "«q_2: ─░────────■────────░─\n",
       "«      ░      ┌─┴─┐      ░ \n",
       "«q_3: ─░──────┤ X ├──────░─\n",
       "«      ░      └───┘      ░ </pre>"
      ],
      "text/plain": [
       "     »\n",
       "q_0: »\n",
       "     »\n",
       "q_1: »\n",
       "     »\n",
       "q_2: »\n",
       "     »\n",
       "q_3: »\n",
       "     »\n",
       "«     ┌──────────────────────────────────────────────────────────────────────────────────────────────────────────────────────────────────────────────────────────────┐»\n",
       "«q_0: ┤0                                                                                                                                                             ├»\n",
       "«     │                                                                                                                                                              │»\n",
       "«q_1: ┤1 Initialize(-0.044714-0.1369j,0.15068-0.45105j,0.0058381-0.24466j,0.11578-0.47829j,-0.018916-0.055063j,0.18112+0.50663j,-0.28059+0.07975j,-0.21218+0.16755j) ├»\n",
       "«     │                                                                                                                                                              │»\n",
       "«q_2: ┤2                                                                                                                                                             ├»\n",
       "«     └───────────────────────────────────────────────────────────────┬──────────────────────────────┬───────────────────────────────────────────────────────────────┘»\n",
       "«q_3: ────────────────────────────────────────────────────────────────┤ Initialize(0.70711,-0.70711) ├────────────────────────────────────────────────────────────────»\n",
       "«                                                                     └──────────────────────────────┘                                                                »\n",
       "«      ░ ┌───┐     ┌───┐ ░ \n",
       "«q_0: ─░─┤ X ├──■──┤ X ├─░─\n",
       "«      ░ └───┘  │  └───┘ ░ \n",
       "«q_1: ─░────────■────────░─\n",
       "«      ░        │        ░ \n",
       "«q_2: ─░────────■────────░─\n",
       "«      ░      ┌─┴─┐      ░ \n",
       "«q_3: ─░──────┤ X ├──────░─\n",
       "«      ░      └───┘      ░ "
      ]
     },
     "execution_count": 5,
     "metadata": {},
     "output_type": "execute_result"
    }
   ],
   "source": [
    "qc = QuantumCircuit(n+1)\n",
    "qc.initialize(INIT_DATA, [0, 1, 2])\n",
    "qc.initialize([1/np.sqrt(2), -1/np.sqrt(2)], 3)\n",
    "\n",
    "qc.barrier()\n",
    "\n",
    "qc.x(0)\n",
    "qc.mct(list(range(n)), n)\n",
    "qc.x(0)\n",
    "\n",
    "qc.barrier()\n",
    "\n",
    "qc.draw()"
   ]
  },
  {
   "cell_type": "code",
   "execution_count": 6,
   "id": "ca6055d1",
   "metadata": {},
   "outputs": [
    {
     "name": "stdout",
     "output_type": "stream",
     "text": [
      "Statevector([-0.03161768-0.09680218j,  0.10654992-0.31894151j,\n",
      "              0.00412817-0.17300302j,  0.08186704-0.33820136j,\n",
      "             -0.01337534-0.03893508j,  0.12806795+0.35824117j,\n",
      "              0.19840427-0.05639172j, -0.150033  +0.11847563j,\n",
      "              0.03161768+0.09680218j, -0.10654992+0.31894151j,\n",
      "             -0.00412817+0.17300302j, -0.08186704+0.33820136j,\n",
      "              0.01337534+0.03893508j, -0.12806795-0.35824117j,\n",
      "             -0.19840427+0.05639172j,  0.150033  -0.11847563j],\n",
      "            dims=(2, 2, 2, 2))\n"
     ]
    }
   ],
   "source": [
    "simulator = Aer.get_backend('statevector_simulator')\n",
    "job = execute(qc, simulator)\n",
    "result = job.result()\n",
    "statevector = result.get_statevector()\n",
    "\n",
    "print(statevector)"
   ]
  },
  {
   "cell_type": "markdown",
   "id": "ce58a0f2",
   "metadata": {},
   "source": [
    "# 2(b)"
   ]
  },
  {
   "cell_type": "code",
   "execution_count": 7,
   "id": "6fe2f107",
   "metadata": {},
   "outputs": [
    {
     "data": {
      "text/html": [
       "<pre style=\"word-wrap: normal;white-space: pre;background: #fff0;line-height: 1.1;font-family: &quot;Courier New&quot;,Courier,monospace\">     ┌───┐          ┌───┐     \n",
       "q_0: ┤ X ├───────■──┤ X ├─────\n",
       "     ├───┤       │  ├───┤     \n",
       "q_1: ┤ X ├───────■──┤ X ├─────\n",
       "     ├───┤┌───┐┌─┴─┐├───┤┌───┐\n",
       "q_2: ┤ X ├┤ H ├┤ X ├┤ H ├┤ X ├\n",
       "     └───┘└───┘└───┘└───┘└───┘</pre>"
      ],
      "text/plain": [
       "     ┌───┐          ┌───┐     \n",
       "q_0: ┤ X ├───────■──┤ X ├─────\n",
       "     ├───┤       │  ├───┤     \n",
       "q_1: ┤ X ├───────■──┤ X ├─────\n",
       "     ├───┤┌───┐┌─┴─┐├───┤┌───┐\n",
       "q_2: ┤ X ├┤ H ├┤ X ├┤ H ├┤ X ├\n",
       "     └───┘└───┘└───┘└───┘└───┘"
      ]
     },
     "execution_count": 7,
     "metadata": {},
     "output_type": "execute_result"
    }
   ],
   "source": [
    "n=3\n",
    "\n",
    "iam_qc = QuantumCircuit(n)\n",
    "    \n",
    "for qubit in range(n):\n",
    "    iam_qc.x(qubit)\n",
    "iam_qc.h(n-1)\n",
    "iam_qc.mct(list(range(n-1)), n-1)\n",
    "iam_qc.h(n-1)\n",
    "for qubit in range(n):\n",
    "    iam_qc.x(qubit)\n",
    "\n",
    "iam_qc.draw()"
   ]
  },
  {
   "cell_type": "code",
   "execution_count": 8,
   "id": "65a10f8e",
   "metadata": {},
   "outputs": [],
   "source": [
    "def iam(n):\n",
    "    \n",
    "    iam_qc = QuantumCircuit(n)\n",
    "    \n",
    "    for qubit in range(n):\n",
    "        iam_qc.x(qubit)\n",
    "    iam_qc.h(n-1)\n",
    "    iam_qc.mct(list(range(n-1)), n-1)\n",
    "    iam_qc.h(n-1)\n",
    "    for qubit in range(n):\n",
    "        iam_qc.x(qubit)\n",
    "        \n",
    "    iam_gate = iam_qc.to_gate()\n",
    "    iam_gate.name = \"iam\" # To show when we display the circuit\n",
    "    return iam_gate"
   ]
  },
  {
   "cell_type": "markdown",
   "id": "1ddeca90",
   "metadata": {},
   "source": [
    "# 2(c)"
   ]
  },
  {
   "cell_type": "code",
   "execution_count": 9,
   "id": "16e813be",
   "metadata": {},
   "outputs": [
    {
     "data": {
      "text/plain": [
       "<qiskit.circuit.instructionset.InstructionSet at 0x27c7d87ebf0>"
      ]
     },
     "execution_count": 9,
     "metadata": {},
     "output_type": "execute_result"
    }
   ],
   "source": [
    "grov_qc = QuantumCircuit(n+1, n)\n",
    "grov_qc.x(n)\n",
    "for qubit in range(n+1):\n",
    "    grov_qc.h(qubit)\n",
    "    \n",
    "for i in range(13):\n",
    "    grov_qc.barrier()\n",
    "\n",
    "    grov_qc.x(0)\n",
    "    grov_qc.mct(list(range(n)), n)\n",
    "    grov_qc.x(0)\n",
    "\n",
    "    grov_qc.barrier()\n",
    "    \n",
    "    for qubit in range(n):\n",
    "        grov_qc.h(qubit)\n",
    "    grov_qc.append(iam(n), range(n))\n",
    "    for qubit in range(n):\n",
    "        grov_qc.h(qubit)\n",
    "\n",
    "grov_qc.barrier()        \n",
    "\n",
    "grov_qc.measure(0, 0)\n",
    "grov_qc.measure(1, 1)\n",
    "grov_qc.measure(2, 2)\n",
    "\n",
    "# grov_qc.draw()"
   ]
  },
  {
   "cell_type": "code",
   "execution_count": 10,
   "id": "4f2b3ae3",
   "metadata": {},
   "outputs": [
    {
     "name": "stdout",
     "output_type": "stream",
     "text": [
      "{'000': 123, '101': 150, '001': 122, '010': 128, '111': 146, '100': 117, '011': 117, '110': 121}\n"
     ]
    },
    {
     "data": {
      "image/png": "[encoded data removed]",
      "text/plain": [
       "<Figure size 700x500 with 1 Axes>"
      ]
     },
     "execution_count": 10,
     "metadata": {},
     "output_type": "execute_result"
    }
   ],
   "source": [
    "simulator = Aer.get_backend('qasm_simulator')\n",
    "job = execute(grov_qc, simulator, shots=1024)\n",
    "result = job.result()\n",
    "counts = result.get_counts()\n",
    "print(counts)\n",
    "plot_histogram(counts)"
   ]
  },
  {
   "cell_type": "markdown",
   "id": "4e8486d8",
   "metadata": {},
   "source": [
    "# 2(d) 2(e) 2(f)"
   ]
  },
  {
   "cell_type": "code",
   "execution_count": 11,
   "id": "c56175d5",
   "metadata": {},
   "outputs": [
    {
     "name": "stdout",
     "output_type": "stream",
     "text": [
      "Statevector([ 0.09887869+0.09685313j, -0.3805797 -0.15407801j,\n",
      "              0.13118812-0.00619278j, -0.36079951-0.37330189j,\n",
      "             -0.01422268-0.12254061j, -0.05473997+0.46574395j,\n",
      "              0.21355296+0.40905966j,  0.07004607-0.26927453j],\n",
      "            dims=(2, 2, 2))\n"
     ]
    }
   ],
   "source": [
    "N = 8\n",
    "n = 3\n",
    "\n",
    "ini_ckt = QuantumCircuit(n)\n",
    "INIT_DATA = random_statevector(N).data\n",
    "ini_ckt.initialize(INIT_DATA, [0, 1, 2])\n",
    "\n",
    "simulator = Aer.get_backend('statevector_simulator')\n",
    "job = execute(ini_ckt, simulator)\n",
    "result = job.result()\n",
    "statevector = result.get_statevector()\n",
    "\n",
    "print(statevector)"
   ]
  },
  {
   "cell_type": "code",
   "execution_count": 12,
   "id": "586af9fc",
   "metadata": {},
   "outputs": [
    {
     "name": "stdout",
     "output_type": "stream",
     "text": [
      "Statevector([ 0.09887869+0.09685313j, -0.3805797 -0.15407801j,\n",
      "              0.13118812-0.00619278j, -0.36079951-0.37330189j,\n",
      "             -0.01422268-0.12254061j,  0.05473997-0.46574395j,\n",
      "             -0.21355296-0.40905966j,  0.07004607-0.26927453j],\n",
      "            dims=(2, 2, 2))\n"
     ]
    }
   ],
   "source": [
    "_grov = QuantumCircuit(n)\n",
    "_grov.initialize(INIT_DATA, [0, 1, 2])\n",
    "_grov.cz(0, 2)\n",
    "_grov.cz(1, 2)\n",
    "\n",
    "simulator = Aer.get_backend('statevector_simulator')\n",
    "job = execute(_grov, simulator)\n",
    "result = job.result()\n",
    "statevector = result.get_statevector()\n",
    "\n",
    "print(statevector)"
   ]
  },
  {
   "cell_type": "code",
   "execution_count": 13,
   "id": "ab6e6505",
   "metadata": {},
   "outputs": [
    {
     "data": {
      "text/html": [
       "<pre style=\"word-wrap: normal;white-space: pre;background: #fff0;line-height: 1.1;font-family: &quot;Courier New&quot;,Courier,monospace\">     ┌───┐      ░           ░ ┌───┐┌──────┐┌───┐ ░ ┌─┐      \n",
       "q_0: ┤ H ├──────░──■─────■──░─┤ H ├┤0     ├┤ H ├─░─┤M├──────\n",
       "     ├───┤      ░  │     │  ░ ├───┤│      │├───┤ ░ └╥┘┌─┐   \n",
       "q_1: ┤ H ├──────░──┼──■──■──░─┤ H ├┤1 iam ├┤ H ├─░──╫─┤M├───\n",
       "     ├───┤      ░  │  │     ░ ├───┤│      │├───┤ ░  ║ └╥┘┌─┐\n",
       "q_2: ┤ H ├──────░──■──■─────░─┤ H ├┤2     ├┤ H ├─░──╫──╫─┤M├\n",
       "     ├───┤┌───┐ ░           ░ └───┘└──────┘└───┘ ░  ║  ║ └╥┘\n",
       "q_3: ┤ X ├┤ H ├─░───────────░────────────────────░──╫──╫──╫─\n",
       "     └───┘└───┘ ░           ░                    ░  ║  ║  ║ \n",
       "c: 3/═══════════════════════════════════════════════╩══╩══╩═\n",
       "                                                    0  1  2 </pre>"
      ],
      "text/plain": [
       "     ┌───┐      ░           ░ ┌───┐┌──────┐┌───┐ ░ ┌─┐      \n",
       "q_0: ┤ H ├──────░──■─────■──░─┤ H ├┤0     ├┤ H ├─░─┤M├──────\n",
       "     ├───┤      ░  │     │  ░ ├───┤│      │├───┤ ░ └╥┘┌─┐   \n",
       "q_1: ┤ H ├──────░──┼──■──■──░─┤ H ├┤1 iam ├┤ H ├─░──╫─┤M├───\n",
       "     ├───┤      ░  │  │     ░ ├───┤│      │├───┤ ░  ║ └╥┘┌─┐\n",
       "q_2: ┤ H ├──────░──■──■─────░─┤ H ├┤2     ├┤ H ├─░──╫──╫─┤M├\n",
       "     ├───┤┌───┐ ░           ░ └───┘└──────┘└───┘ ░  ║  ║ └╥┘\n",
       "q_3: ┤ X ├┤ H ├─░───────────░────────────────────░──╫──╫──╫─\n",
       "     └───┘└───┘ ░           ░                    ░  ║  ║  ║ \n",
       "c: 3/═══════════════════════════════════════════════╩══╩══╩═\n",
       "                                                    0  1  2 "
      ]
     },
     "execution_count": 13,
     "metadata": {},
     "output_type": "execute_result"
    }
   ],
   "source": [
    "_grov = QuantumCircuit(n+1, n)\n",
    "_grov.x(n)\n",
    "for qubit in range(n+1):\n",
    "    _grov.h(qubit)\n",
    "\n",
    "for i in range(1):\n",
    "    _grov.barrier()\n",
    "    \n",
    "    _grov.cz(0, 2)\n",
    "    _grov.cz(1, 2)\n",
    "    \n",
    "    _grov.cz(1, 0)\n",
    "    \n",
    "    _grov.barrier()\n",
    "    \n",
    "    for qubit in range(n):\n",
    "        _grov.h(qubit)\n",
    "    _grov.append(iam(n), range(n))\n",
    "    for qubit in range(n):\n",
    "        _grov.h(qubit)\n",
    "        \n",
    "_grov.barrier()\n",
    "\n",
    "_grov.measure(0, 0)\n",
    "_grov.measure(1, 1)\n",
    "_grov.measure(2, 2)\n",
    "\n",
    "_grov.draw()"
   ]
  },
  {
   "cell_type": "code",
   "execution_count": 14,
   "id": "b8e446ef",
   "metadata": {},
   "outputs": [
    {
     "name": "stdout",
     "output_type": "stream",
     "text": [
      "{'011': 140, '100': 131, '101': 137, '010': 113, '111': 124, '110': 132, '000': 103, '001': 144}\n"
     ]
    },
    {
     "data": {
      "image/png": "[encoded data removed]",
      "text/plain": [
       "<Figure size 700x500 with 1 Axes>"
      ]
     },
     "execution_count": 14,
     "metadata": {},
     "output_type": "execute_result"
    }
   ],
   "source": [
    "simulator = Aer.get_backend('qasm_simulator')\n",
    "job = execute(_grov, simulator, shots=1024)\n",
    "result = job.result()\n",
    "counts = result.get_counts()\n",
    "print(counts)\n",
    "plot_histogram(counts)"
   ]
  },
  {
   "cell_type": "code",
   "execution_count": 15,
   "id": "aaf8f8cf",
   "metadata": {},
   "outputs": [],
   "source": [
    "# apitoken = \"8f84cb4cd160cd4c1ca646b369894917e3cb1cd76a7dfcb48cf76d5cd9a44e3a08c86c0e3a456c6a7b3d24de29d8e5d10972fd0dd9272631451066746885e1b4\"\n",
    "# IBMQ.save_account(apitoken)\n",
    "\n",
    "# IBMQ.load_account()\n",
    "# provider = IBMQ.get_provider(hub='ibm-q', group='open', project='main')\n",
    "# qcomp = provider.get_backend('ibmq_manila')\n",
    "# job = execute(_grov, backend=qcomp, shots=1024, memory=True) # memory=True"
   ]
  },
  {
   "cell_type": "code",
   "execution_count": 16,
   "id": "fba5e19a",
   "metadata": {},
   "outputs": [],
   "source": [
    "# from qiskit.tools.monitor import job_monitor\n",
    "# job_monitor(job)\n",
    "\n",
    "# result = job.result()\n",
    "# counts = result.get_counts()\n",
    "\n",
    "# print(counts)\n",
    "# plot_histogram(counts)"
   ]
  }
 ],
 "metadata": {
  "kernelspec": {
   "display_name": "Python 3 (ipykernel)",
   "language": "python",
   "name": "python3"
  },
  "language_info": {
   "codemirror_mode": {
    "name": "ipython",
    "version": 3
   },
   "file_extension": ".py",
   "mimetype": "text/x-python",
   "name": "python",
   "nbconvert_exporter": "python",
   "pygments_lexer": "ipython3",
   "version": "3.10.4"
  },
  "toc": {
   "base_numbering": 1,
   "nav_menu": {},
   "number_sections": true,
   "sideBar": true,
   "skip_h1_title": false,
   "title_cell": "Table of Contents",
   "title_sidebar": "Contents",
   "toc_cell": false,
   "toc_position": {},
   "toc_section_display": true,
   "toc_window_display": false
  }
 },
 "nbformat": 4,
 "nbformat_minor": 5
}
