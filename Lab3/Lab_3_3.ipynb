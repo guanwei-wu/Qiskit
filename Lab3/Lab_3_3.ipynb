{
 "cells": [
  {
   "cell_type": "code",
   "execution_count": 1,
   "id": "ed8b781d",
   "metadata": {},
   "outputs": [],
   "source": [
    "# initialization\n",
    "import numpy as np\n",
    "\n",
    "# importing Qiskit\n",
    "from qiskit import IBMQ, Aer\n",
    "from qiskit.providers.ibmq import least_busy\n",
    "from qiskit import QuantumCircuit, assemble, transpile\n",
    "\n",
    "# import basic plot tools\n",
    "from qiskit.visualization import plot_histogram\n",
    "\n",
    "import qiskit\n",
    "import numpy as np\n",
    "from qiskit import *\n",
    "from qiskit import QuantumCircuit, execute, Aer\n",
    "from qiskit.visualization import plot_histogram, plot_bloch_multivector\n",
    "from math import sqrt, pi\n",
    "\n",
    "from qiskit.tools.visualization import plot_histogram\n",
    "from qiskit.quantum_info import random_statevector, Statevector, partial_trace"
   ]
  },
  {
   "cell_type": "code",
   "execution_count": 2,
   "id": "83bad673",
   "metadata": {},
   "outputs": [],
   "source": [
    "def qft(n):\n",
    "    \"\"\"n-qubit QFT the first n qubits in circuit\"\"\"\n",
    "    qc = QuantumCircuit(n)\n",
    "    # Don't forget the Swaps!\n",
    "    for qubit in range(n//2):\n",
    "        qc.swap(qubit, n-qubit-1)\n",
    "    for j in range(n):\n",
    "        for m in range(j):\n",
    "            qc.cu1(np.pi/float(2**(j-m)), m, j)\n",
    "        qc.h(j)\n",
    "    qc.name = \"QFT\"\n",
    "    return qc\n",
    "\n",
    "def qft_dagger(n):\n",
    "    \"\"\"n-qubit QFTdagger the first n qubits in circuit\"\"\"\n",
    "    qc = QuantumCircuit(n)\n",
    "    # Don't forget the Swaps!\n",
    "    for qubit in range(n//2):\n",
    "        qc.swap(qubit, n-qubit-1)\n",
    "    for j in range(n):\n",
    "        for m in range(j):\n",
    "            qc.cu1(-np.pi/float(2**(j-m)), m, j)\n",
    "        qc.h(j)\n",
    "    qc.name = \"QFT\"\n",
    "    return qc"
   ]
  },
  {
   "cell_type": "code",
   "execution_count": 3,
   "id": "69cc9b8c",
   "metadata": {},
   "outputs": [
    {
     "name": "stderr",
     "output_type": "stream",
     "text": [
      "C:\\Users\\User\\AppData\\Local\\Temp\\ipykernel_26296\\3016227967.py:22: DeprecationWarning: The QuantumCircuit.cu1 method is deprecated as of 0.16.0. It will be removed no earlier than 3 months after the release date. You should use the QuantumCircuit.cp method instead, which acts identically.\n",
      "  qc.cu1(-np.pi/float(2**(j-m)), m, j)\n"
     ]
    },
    {
     "data": {
      "text/html": [
       "<pre style=\"word-wrap: normal;white-space: pre;background: #fff0;line-height: 1.1;font-family: &quot;Courier New&quot;,Courier,monospace\">     ┌───┐┌───────┐ ░ ┌──────┐ ░ ┌─┐         \n",
       "q_0: ┤ H ├┤ Rz(π) ├─░─┤0     ├─░─┤M├─────────\n",
       "     ├───┤└───────┘ ░ │      │ ░ └╥┘┌─┐      \n",
       "q_1: ┤ H ├──────────░─┤1     ├─░──╫─┤M├──────\n",
       "     ├───┤          ░ │  QFT │ ░  ║ └╥┘┌─┐   \n",
       "q_2: ┤ H ├──────────░─┤2     ├─░──╫──╫─┤M├───\n",
       "     ├───┤          ░ │      │ ░  ║  ║ └╥┘┌─┐\n",
       "q_3: ┤ H ├──────────░─┤3     ├─░──╫──╫──╫─┤M├\n",
       "     └───┘          ░ └──────┘ ░  ║  ║  ║ └╥┘\n",
       "c: 4/═════════════════════════════╩══╩══╩══╩═\n",
       "                                  0  1  2  3 </pre>"
      ],
      "text/plain": [
       "     ┌───┐┌───────┐ ░ ┌──────┐ ░ ┌─┐         \n",
       "q_0: ┤ H ├┤ Rz(π) ├─░─┤0     ├─░─┤M├─────────\n",
       "     ├───┤└───────┘ ░ │      │ ░ └╥┘┌─┐      \n",
       "q_1: ┤ H ├──────────░─┤1     ├─░──╫─┤M├──────\n",
       "     ├───┤          ░ │  QFT │ ░  ║ └╥┘┌─┐   \n",
       "q_2: ┤ H ├──────────░─┤2     ├─░──╫──╫─┤M├───\n",
       "     ├───┤          ░ │      │ ░  ║  ║ └╥┘┌─┐\n",
       "q_3: ┤ H ├──────────░─┤3     ├─░──╫──╫──╫─┤M├\n",
       "     └───┘          ░ └──────┘ ░  ║  ║  ║ └╥┘\n",
       "c: 4/═════════════════════════════╩══╩══╩══╩═\n",
       "                                  0  1  2  3 "
      ]
     },
     "execution_count": 3,
     "metadata": {},
     "output_type": "execute_result"
    }
   ],
   "source": [
    "circuit_a = QuantumCircuit(4, 4)\n",
    "for qubit in range(4):\n",
    "    circuit_a.h(qubit)\n",
    "circuit_a.rz(pi, 0)\n",
    "\n",
    "circuit_a.barrier()\n",
    "\n",
    "# qft_dagger\n",
    "circuit_a.append(qft_dagger(4), range(4))\n",
    "circuit_a.barrier()\n",
    "\n",
    "circuit_a.measure(0, 0)\n",
    "circuit_a.measure(1, 1)\n",
    "circuit_a.measure(2, 2)\n",
    "circuit_a.measure(3, 3)\n",
    "\n",
    "circuit_a.draw()"
   ]
  },
  {
   "cell_type": "code",
   "execution_count": 4,
   "id": "5c89ed3c",
   "metadata": {},
   "outputs": [
    {
     "name": "stderr",
     "output_type": "stream",
     "text": [
      "C:\\Users\\User\\AppData\\Local\\Temp\\ipykernel_26296\\3016227967.py:22: DeprecationWarning: The QuantumCircuit.cu1 method is deprecated as of 0.16.0. It will be removed no earlier than 3 months after the release date. You should use the QuantumCircuit.cp method instead, which acts identically.\n",
      "  qc.cu1(-np.pi/float(2**(j-m)), m, j)\n"
     ]
    },
    {
     "data": {
      "text/html": [
       "<pre style=\"word-wrap: normal;white-space: pre;background: #fff0;line-height: 1.1;font-family: &quot;Courier New&quot;,Courier,monospace\">     ┌───┐┌─────────┐ ░ ┌──────┐ ░ ┌─┐         \n",
       "q_0: ┤ H ├┤ Rz(π/2) ├─░─┤0     ├─░─┤M├─────────\n",
       "     ├───┤└┬───────┬┘ ░ │      │ ░ └╥┘┌─┐      \n",
       "q_1: ┤ H ├─┤ Ry(π) ├──░─┤1     ├─░──╫─┤M├──────\n",
       "     ├───┤ └───────┘  ░ │  QFT │ ░  ║ └╥┘┌─┐   \n",
       "q_2: ┤ H ├────────────░─┤2     ├─░──╫──╫─┤M├───\n",
       "     ├───┤            ░ │      │ ░  ║  ║ └╥┘┌─┐\n",
       "q_3: ┤ H ├────────────░─┤3     ├─░──╫──╫──╫─┤M├\n",
       "     └───┘            ░ └──────┘ ░  ║  ║  ║ └╥┘\n",
       "c: 4/═══════════════════════════════╩══╩══╩══╩═\n",
       "                                    0  1  2  3 </pre>"
      ],
      "text/plain": [
       "     ┌───┐┌─────────┐ ░ ┌──────┐ ░ ┌─┐         \n",
       "q_0: ┤ H ├┤ Rz(π/2) ├─░─┤0     ├─░─┤M├─────────\n",
       "     ├───┤└┬───────┬┘ ░ │      │ ░ └╥┘┌─┐      \n",
       "q_1: ┤ H ├─┤ Ry(π) ├──░─┤1     ├─░──╫─┤M├──────\n",
       "     ├───┤ └───────┘  ░ │  QFT │ ░  ║ └╥┘┌─┐   \n",
       "q_2: ┤ H ├────────────░─┤2     ├─░──╫──╫─┤M├───\n",
       "     ├───┤            ░ │      │ ░  ║  ║ └╥┘┌─┐\n",
       "q_3: ┤ H ├────────────░─┤3     ├─░──╫──╫──╫─┤M├\n",
       "     └───┘            ░ └──────┘ ░  ║  ║  ║ └╥┘\n",
       "c: 4/═══════════════════════════════╩══╩══╩══╩═\n",
       "                                    0  1  2  3 "
      ]
     },
     "execution_count": 4,
     "metadata": {},
     "output_type": "execute_result"
    }
   ],
   "source": [
    "circuit_b = QuantumCircuit(4, 4)\n",
    "for qubit in range(4):\n",
    "    circuit_b.h(qubit)\n",
    "circuit_b.rz(pi/2, 0)\n",
    "circuit_b.ry(pi, 1)\n",
    "\n",
    "circuit_b.barrier()\n",
    "\n",
    "# qft_dagger\n",
    "circuit_b.append(qft_dagger(4), range(4))\n",
    "circuit_b.barrier()\n",
    "\n",
    "circuit_b.measure(0, 0)\n",
    "circuit_b.measure(1, 1)\n",
    "circuit_b.measure(2, 2)\n",
    "circuit_b.measure(3, 3)\n",
    "\n",
    "circuit_b.draw()"
   ]
  },
  {
   "cell_type": "code",
   "execution_count": 5,
   "id": "b6a58e19",
   "metadata": {},
   "outputs": [
    {
     "name": "stderr",
     "output_type": "stream",
     "text": [
      "C:\\Users\\User\\AppData\\Local\\Temp\\ipykernel_26296\\3016227967.py:22: DeprecationWarning: The QuantumCircuit.cu1 method is deprecated as of 0.16.0. It will be removed no earlier than 3 months after the release date. You should use the QuantumCircuit.cp method instead, which acts identically.\n",
      "  qc.cu1(-np.pi/float(2**(j-m)), m, j)\n"
     ]
    },
    {
     "data": {
      "text/html": [
       "<pre style=\"word-wrap: normal;white-space: pre;background: #fff0;line-height: 1.1;font-family: &quot;Courier New&quot;,Courier,monospace\">     ┌───┐┌─────────┐ ░ ┌──────┐ ░ ┌─┐         \n",
       "q_0: ┤ H ├┤ Rz(π/4) ├─░─┤0     ├─░─┤M├─────────\n",
       "     ├───┤├─────────┤ ░ │      │ ░ └╥┘┌─┐      \n",
       "q_1: ┤ H ├┤ Rz(π/2) ├─░─┤1     ├─░──╫─┤M├──────\n",
       "     ├───┤└┬───────┬┘ ░ │  QFT │ ░  ║ └╥┘┌─┐   \n",
       "q_2: ┤ H ├─┤ Rz(π) ├──░─┤2     ├─░──╫──╫─┤M├───\n",
       "     ├───┤ └───────┘  ░ │      │ ░  ║  ║ └╥┘┌─┐\n",
       "q_3: ┤ H ├────────────░─┤3     ├─░──╫──╫──╫─┤M├\n",
       "     └───┘            ░ └──────┘ ░  ║  ║  ║ └╥┘\n",
       "c: 4/═══════════════════════════════╩══╩══╩══╩═\n",
       "                                    0  1  2  3 </pre>"
      ],
      "text/plain": [
       "     ┌───┐┌─────────┐ ░ ┌──────┐ ░ ┌─┐         \n",
       "q_0: ┤ H ├┤ Rz(π/4) ├─░─┤0     ├─░─┤M├─────────\n",
       "     ├───┤├─────────┤ ░ │      │ ░ └╥┘┌─┐      \n",
       "q_1: ┤ H ├┤ Rz(π/2) ├─░─┤1     ├─░──╫─┤M├──────\n",
       "     ├───┤└┬───────┬┘ ░ │  QFT │ ░  ║ └╥┘┌─┐   \n",
       "q_2: ┤ H ├─┤ Rz(π) ├──░─┤2     ├─░──╫──╫─┤M├───\n",
       "     ├───┤ └───────┘  ░ │      │ ░  ║  ║ └╥┘┌─┐\n",
       "q_3: ┤ H ├────────────░─┤3     ├─░──╫──╫──╫─┤M├\n",
       "     └───┘            ░ └──────┘ ░  ║  ║  ║ └╥┘\n",
       "c: 4/═══════════════════════════════╩══╩══╩══╩═\n",
       "                                    0  1  2  3 "
      ]
     },
     "execution_count": 5,
     "metadata": {},
     "output_type": "execute_result"
    }
   ],
   "source": [
    "circuit_c = QuantumCircuit(4, 4)\n",
    "for qubit in range(4):\n",
    "    circuit_c.h(qubit)\n",
    "circuit_c.rz(pi/4, 0)\n",
    "circuit_c.rz(pi/2, 1)\n",
    "circuit_c.rz(pi, 2)\n",
    "\n",
    "circuit_c.barrier()\n",
    "\n",
    "# qft_dagger\n",
    "circuit_c.append(qft_dagger(4), range(4))\n",
    "circuit_c.barrier()\n",
    "\n",
    "circuit_c.measure(0, 0)\n",
    "circuit_c.measure(1, 1)\n",
    "circuit_c.measure(2, 2)\n",
    "circuit_c.measure(3, 3)\n",
    "\n",
    "circuit_c.draw()"
   ]
  },
  {
   "cell_type": "code",
   "execution_count": 6,
   "id": "e58fdeee",
   "metadata": {},
   "outputs": [
    {
     "name": "stdout",
     "output_type": "stream",
     "text": [
      "{'1000': 1024}\n"
     ]
    },
    {
     "data": {
      "image/png": "[encoded data removed]",
      "text/plain": [
       "<Figure size 700x500 with 1 Axes>"
      ]
     },
     "execution_count": 6,
     "metadata": {},
     "output_type": "execute_result"
    }
   ],
   "source": [
    "simulator = Aer.get_backend('qasm_simulator')\n",
    "job = execute(circuit_a, simulator, shots=1024)\n",
    "result = job.result()\n",
    "counts = result.get_counts()\n",
    "print(counts)\n",
    "plot_histogram(counts)"
   ]
  },
  {
   "cell_type": "code",
   "execution_count": 7,
   "id": "20787973",
   "metadata": {},
   "outputs": [
    {
     "name": "stdout",
     "output_type": "stream",
     "text": [
      "{'0100': 1024}\n"
     ]
    },
    {
     "data": {
      "image/png": "[encoded data removed]",
      "text/plain": [
       "<Figure size 700x500 with 1 Axes>"
      ]
     },
     "execution_count": 7,
     "metadata": {},
     "output_type": "execute_result"
    }
   ],
   "source": [
    "simulator = Aer.get_backend('qasm_simulator')\n",
    "job = execute(circuit_b, simulator, shots=1024)\n",
    "result = job.result()\n",
    "counts = result.get_counts()\n",
    "print(counts)\n",
    "plot_histogram(counts)"
   ]
  },
  {
   "cell_type": "code",
   "execution_count": 8,
   "id": "6128c0c9",
   "metadata": {},
   "outputs": [
    {
     "name": "stdout",
     "output_type": "stream",
     "text": [
      "{'0010': 1024}\n"
     ]
    },
    {
     "data": {
      "image/png": "[encoded data removed]",
      "text/plain": [
       "<Figure size 700x500 with 1 Axes>"
      ]
     },
     "execution_count": 8,
     "metadata": {},
     "output_type": "execute_result"
    }
   ],
   "source": [
    "simulator = Aer.get_backend('qasm_simulator')\n",
    "job = execute(circuit_c, simulator, shots=1024)\n",
    "result = job.result()\n",
    "counts = result.get_counts()\n",
    "print(counts)\n",
    "plot_histogram(counts)"
   ]
  }
 ],
 "metadata": {
  "kernelspec": {
   "display_name": "Python 3 (ipykernel)",
   "language": "python",
   "name": "python3"
  },
  "language_info": {
   "codemirror_mode": {
    "name": "ipython",
    "version": 3
   },
   "file_extension": ".py",
   "mimetype": "text/x-python",
   "name": "python",
   "nbconvert_exporter": "python",
   "pygments_lexer": "ipython3",
   "version": "3.10.4"
  },
  "toc": {
   "base_numbering": 1,
   "nav_menu": {},
   "number_sections": true,
   "sideBar": true,
   "skip_h1_title": false,
   "title_cell": "Table of Contents",
   "title_sidebar": "Contents",
   "toc_cell": false,
   "toc_position": {},
   "toc_section_display": true,
   "toc_window_display": false
  }
 },
 "nbformat": 4,
 "nbformat_minor": 5
}
