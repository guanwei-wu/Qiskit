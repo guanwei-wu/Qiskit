{
 "cells": [
  {
   "cell_type": "code",
   "execution_count": 1,
   "id": "a05379ba",
   "metadata": {},
   "outputs": [],
   "source": [
    "# Reference: Qiskit Textbook"
   ]
  },
  {
   "cell_type": "code",
   "execution_count": 2,
   "id": "a8e4df95",
   "metadata": {},
   "outputs": [],
   "source": [
    "# initialization\n",
    "import numpy as np\n",
    "\n",
    "# importing Qiskit\n",
    "from qiskit import IBMQ, Aer\n",
    "from qiskit.providers.ibmq import least_busy\n",
    "from qiskit import QuantumCircuit, assemble, transpile\n",
    "\n",
    "# import basic plot tools\n",
    "from qiskit.visualization import plot_histogram"
   ]
  },
  {
   "cell_type": "code",
   "execution_count": 3,
   "id": "8e66adfb",
   "metadata": {},
   "outputs": [
    {
     "data": {
      "text/html": [
       "<pre style=\"word-wrap: normal;white-space: pre;background: #fff0;line-height: 1.1;font-family: &quot;Courier New&quot;,Courier,monospace\">          \n",
       "q_0: ─────\n",
       "          \n",
       "q_1: ─────\n",
       "          \n",
       "q_2: ─────\n",
       "          \n",
       "q_3: ─────\n",
       "     ┌───┐\n",
       "q_4: ┤ X ├\n",
       "     └───┘</pre>"
      ],
      "text/plain": [
       "          \n",
       "q_0: ─────\n",
       "          \n",
       "q_1: ─────\n",
       "          \n",
       "q_2: ─────\n",
       "          \n",
       "q_3: ─────\n",
       "     ┌───┐\n",
       "q_4: ┤ X ├\n",
       "     └───┘"
      ]
     },
     "execution_count": 3,
     "metadata": {},
     "output_type": "execute_result"
    }
   ],
   "source": [
    "# set the length of the n-bit input string. \n",
    "n = 4\n",
    "\n",
    "const_oracle = QuantumCircuit(n+1)\n",
    "\n",
    "output = np.random.randint(2)\n",
    "if output == 1:\n",
    "    const_oracle.x(n)\n",
    "\n",
    "const_oracle.draw()"
   ]
  },
  {
   "cell_type": "code",
   "execution_count": 4,
   "id": "fc202331",
   "metadata": {},
   "outputs": [
    {
     "data": {
      "text/html": [
       "<pre style=\"word-wrap: normal;white-space: pre;background: #fff0;line-height: 1.1;font-family: &quot;Courier New&quot;,Courier,monospace\">     ┌───┐\n",
       "q_0: ┤ X ├\n",
       "     └───┘\n",
       "q_1: ─────\n",
       "     ┌───┐\n",
       "q_2: ┤ X ├\n",
       "     ├───┤\n",
       "q_3: ┤ X ├\n",
       "     └───┘\n",
       "q_4: ─────\n",
       "          </pre>"
      ],
      "text/plain": [
       "     ┌───┐\n",
       "q_0: ┤ X ├\n",
       "     └───┘\n",
       "q_1: ─────\n",
       "     ┌───┐\n",
       "q_2: ┤ X ├\n",
       "     ├───┤\n",
       "q_3: ┤ X ├\n",
       "     └───┘\n",
       "q_4: ─────\n",
       "          "
      ]
     },
     "execution_count": 4,
     "metadata": {},
     "output_type": "execute_result"
    }
   ],
   "source": [
    "balanced_oracle = QuantumCircuit(n+1)\n",
    "b_str = \"1011\"\n",
    "\n",
    "# Place X-gates\n",
    "for qubit in range(len(b_str)):\n",
    "    if b_str[qubit] == '1':\n",
    "        balanced_oracle.x(qubit)\n",
    "balanced_oracle.draw()"
   ]
  },
  {
   "cell_type": "code",
   "execution_count": 5,
   "id": "45ad5521",
   "metadata": {},
   "outputs": [
    {
     "data": {
      "text/html": [
       "<pre style=\"word-wrap: normal;white-space: pre;background: #fff0;line-height: 1.1;font-family: &quot;Courier New&quot;,Courier,monospace\">     ┌───┐ ░                      ░ ┌───┐\n",
       "q_0: ┤ X ├─░───■──────────────────░─┤ X ├\n",
       "     └───┘ ░   │                  ░ └───┘\n",
       "q_1: ──────░───┼────■─────────────░──────\n",
       "     ┌───┐ ░   │    │             ░ ┌───┐\n",
       "q_2: ┤ X ├─░───┼────┼────■────────░─┤ X ├\n",
       "     ├───┤ ░   │    │    │        ░ ├───┤\n",
       "q_3: ┤ X ├─░───┼────┼────┼────■───░─┤ X ├\n",
       "     └───┘ ░ ┌─┴─┐┌─┴─┐┌─┴─┐┌─┴─┐ ░ └───┘\n",
       "q_4: ──────░─┤ X ├┤ X ├┤ X ├┤ X ├─░──────\n",
       "           ░ └───┘└───┘└───┘└───┘ ░      </pre>"
      ],
      "text/plain": [
       "     ┌───┐ ░                      ░ ┌───┐\n",
       "q_0: ┤ X ├─░───■──────────────────░─┤ X ├\n",
       "     └───┘ ░   │                  ░ └───┘\n",
       "q_1: ──────░───┼────■─────────────░──────\n",
       "     ┌───┐ ░   │    │             ░ ┌───┐\n",
       "q_2: ┤ X ├─░───┼────┼────■────────░─┤ X ├\n",
       "     ├───┤ ░   │    │    │        ░ ├───┤\n",
       "q_3: ┤ X ├─░───┼────┼────┼────■───░─┤ X ├\n",
       "     └───┘ ░ ┌─┴─┐┌─┴─┐┌─┴─┐┌─┴─┐ ░ └───┘\n",
       "q_4: ──────░─┤ X ├┤ X ├┤ X ├┤ X ├─░──────\n",
       "           ░ └───┘└───┘└───┘└───┘ ░      "
      ]
     },
     "execution_count": 5,
     "metadata": {},
     "output_type": "execute_result"
    }
   ],
   "source": [
    "balanced_oracle = QuantumCircuit(n+1)\n",
    "b_str = \"1011\"\n",
    "\n",
    "# Place X-gates\n",
    "for qubit in range(len(b_str)):\n",
    "    if b_str[qubit] == '1':\n",
    "        balanced_oracle.x(qubit)\n",
    "\n",
    "# Use barrier as divider\n",
    "balanced_oracle.barrier()\n",
    "\n",
    "# Controlled-NOT gates\n",
    "for qubit in range(n):\n",
    "    balanced_oracle.cx(qubit, n)\n",
    "\n",
    "balanced_oracle.barrier()\n",
    "\n",
    "# Place X-gates\n",
    "for qubit in range(len(b_str)):\n",
    "    if b_str[qubit] == '1':\n",
    "        balanced_oracle.x(qubit)\n",
    "\n",
    "# Show oracle\n",
    "balanced_oracle.draw()"
   ]
  },
  {
   "cell_type": "markdown",
   "id": "5f7f19b4",
   "metadata": {},
   "source": [
    "# 1(a)"
   ]
  },
  {
   "cell_type": "code",
   "execution_count": 6,
   "id": "38f52cae",
   "metadata": {},
   "outputs": [],
   "source": [
    "import qiskit\n",
    "import numpy as np\n",
    "from qiskit import *\n",
    "from qiskit import QuantumCircuit, execute, Aer\n",
    "from qiskit.visualization import plot_histogram, plot_bloch_multivector\n",
    "from math import sqrt, pi\n",
    "\n",
    "from qiskit.tools.visualization import plot_histogram"
   ]
  },
  {
   "cell_type": "code",
   "execution_count": 7,
   "id": "807929fa",
   "metadata": {},
   "outputs": [],
   "source": [
    "STRING = '1011'"
   ]
  },
  {
   "cell_type": "code",
   "execution_count": 8,
   "id": "26feef65",
   "metadata": {},
   "outputs": [
    {
     "data": {
      "text/html": [
       "<pre style=\"word-wrap: normal;white-space: pre;background: #fff0;line-height: 1.1;font-family: &quot;Courier New&quot;,Courier,monospace\">     ┌───┐┌───┐ ░    \n",
       "q_0: ┤ X ├┤ I ├─░────\n",
       "     ├───┤└───┘ ░    \n",
       "q_1: ┤ I ├──────░────\n",
       "     ├───┤┌───┐ ░    \n",
       "q_2: ┤ X ├┤ I ├─░────\n",
       "     ├───┤├───┤ ░    \n",
       "q_3: ┤ X ├┤ I ├─░────\n",
       "     └───┘└───┘ ░ ┌─┐\n",
       "q_4: ───────────░─┤M├\n",
       "                ░ └╥┘\n",
       "c: 1/══════════════╩═\n",
       "                   0 </pre>"
      ],
      "text/plain": [
       "     ┌───┐┌───┐ ░    \n",
       "q_0: ┤ X ├┤ I ├─░────\n",
       "     ├───┤└───┘ ░    \n",
       "q_1: ┤ I ├──────░────\n",
       "     ├───┤┌───┐ ░    \n",
       "q_2: ┤ X ├┤ I ├─░────\n",
       "     ├───┤├───┤ ░    \n",
       "q_3: ┤ X ├┤ I ├─░────\n",
       "     └───┘└───┘ ░ ┌─┐\n",
       "q_4: ───────────░─┤M├\n",
       "                ░ └╥┘\n",
       "c: 1/══════════════╩═\n",
       "                   0 "
      ]
     },
     "execution_count": 8,
     "metadata": {},
     "output_type": "execute_result"
    }
   ],
   "source": [
    "oracle_a = QuantumCircuit(n+1, 1)\n",
    "b_str = STRING\n",
    "\n",
    "for qubit in range(len(b_str)):\n",
    "    if b_str[qubit] == '1':\n",
    "        oracle_a.x(qubit)\n",
    "\n",
    "balanced_oracle.barrier()\n",
    "\n",
    "for i in range(len(b_str)):\n",
    "    oracle_a.i(i)\n",
    "    \n",
    "oracle_a.barrier()\n",
    "\n",
    "oracle_a.measure(n, 0)\n",
    "oracle_a.draw()"
   ]
  },
  {
   "cell_type": "code",
   "execution_count": 9,
   "id": "097dacba",
   "metadata": {},
   "outputs": [
    {
     "name": "stdout",
     "output_type": "stream",
     "text": [
      "{'0': 10}\n"
     ]
    },
    {
     "data": {
      "image/png": "[encoded data removed]",
      "text/plain": [
       "<Figure size 700x500 with 1 Axes>"
      ]
     },
     "execution_count": 9,
     "metadata": {},
     "output_type": "execute_result"
    }
   ],
   "source": [
    "simulator = Aer.get_backend('qasm_simulator')\n",
    "job = execute(oracle_a, simulator, shots=10)\n",
    "result = job.result()\n",
    "counts = result.get_counts()\n",
    "print(counts)\n",
    "plot_histogram(counts)"
   ]
  },
  {
   "cell_type": "code",
   "execution_count": 10,
   "id": "3529c85a",
   "metadata": {},
   "outputs": [
    {
     "data": {
      "text/html": [
       "<pre style=\"word-wrap: normal;white-space: pre;background: #fff0;line-height: 1.1;font-family: &quot;Courier New&quot;,Courier,monospace\">     ┌───┐┌───┐ ░    \n",
       "q_0: ┤ X ├┤ I ├─░────\n",
       "     ├───┤└───┘ ░    \n",
       "q_1: ┤ I ├──────░────\n",
       "     ├───┤┌───┐ ░    \n",
       "q_2: ┤ X ├┤ I ├─░────\n",
       "     ├───┤├───┤ ░    \n",
       "q_3: ┤ X ├┤ I ├─░────\n",
       "     ├───┤└───┘ ░ ┌─┐\n",
       "q_4: ┤ X ├──────░─┤M├\n",
       "     └───┘      ░ └╥┘\n",
       "c: 1/══════════════╩═\n",
       "                   0 </pre>"
      ],
      "text/plain": [
       "     ┌───┐┌───┐ ░    \n",
       "q_0: ┤ X ├┤ I ├─░────\n",
       "     ├───┤└───┘ ░    \n",
       "q_1: ┤ I ├──────░────\n",
       "     ├───┤┌───┐ ░    \n",
       "q_2: ┤ X ├┤ I ├─░────\n",
       "     ├───┤├───┤ ░    \n",
       "q_3: ┤ X ├┤ I ├─░────\n",
       "     ├───┤└───┘ ░ ┌─┐\n",
       "q_4: ┤ X ├──────░─┤M├\n",
       "     └───┘      ░ └╥┘\n",
       "c: 1/══════════════╩═\n",
       "                   0 "
      ]
     },
     "execution_count": 10,
     "metadata": {},
     "output_type": "execute_result"
    }
   ],
   "source": [
    "oracle_b = QuantumCircuit(n+1, 1)\n",
    "b_str = STRING\n",
    "\n",
    "for qubit in range(len(b_str)):\n",
    "    if b_str[qubit] == '1':\n",
    "        oracle_b.x(qubit)\n",
    "\n",
    "balanced_oracle.barrier()\n",
    "\n",
    "for i in range(len(b_str)):\n",
    "    oracle_b.i(i)\n",
    "    \n",
    "oracle_b.x(n)\n",
    "    \n",
    "oracle_b.barrier()\n",
    "\n",
    "oracle_b.measure(n, 0)\n",
    "oracle_b.draw()"
   ]
  },
  {
   "cell_type": "code",
   "execution_count": 11,
   "id": "da0c0a33",
   "metadata": {},
   "outputs": [
    {
     "name": "stdout",
     "output_type": "stream",
     "text": [
      "{'1': 10}\n"
     ]
    },
    {
     "data": {
      "image/png": "[encoded data removed]",
      "text/plain": [
       "<Figure size 700x500 with 1 Axes>"
      ]
     },
     "execution_count": 11,
     "metadata": {},
     "output_type": "execute_result"
    }
   ],
   "source": [
    "simulator = Aer.get_backend('qasm_simulator')\n",
    "job = execute(oracle_b, simulator, shots=10)\n",
    "result = job.result()\n",
    "counts = result.get_counts()\n",
    "print(counts)\n",
    "plot_histogram(counts)"
   ]
  },
  {
   "cell_type": "code",
   "execution_count": 12,
   "id": "a329a125",
   "metadata": {},
   "outputs": [
    {
     "data": {
      "text/html": [
       "<pre style=\"word-wrap: normal;white-space: pre;background: #fff0;line-height: 1.1;font-family: &quot;Courier New&quot;,Courier,monospace\">     ┌───┐                     ░    \n",
       "q_0: ┤ X ├──■──────────────────░────\n",
       "     └───┘  │                  ░    \n",
       "q_1: ───────┼────■─────────────░────\n",
       "     ┌───┐  │    │             ░    \n",
       "q_2: ┤ X ├──┼────┼────■────────░────\n",
       "     ├───┤  │    │    │        ░    \n",
       "q_3: ┤ X ├──┼────┼────┼────■───░────\n",
       "     └───┘┌─┴─┐┌─┴─┐┌─┴─┐┌─┴─┐ ░ ┌─┐\n",
       "q_4: ─────┤ X ├┤ X ├┤ X ├┤ X ├─░─┤M├\n",
       "          └───┘└───┘└───┘└───┘ ░ └╥┘\n",
       "c: 1/═════════════════════════════╩═\n",
       "                                  0 </pre>"
      ],
      "text/plain": [
       "     ┌───┐                     ░    \n",
       "q_0: ┤ X ├──■──────────────────░────\n",
       "     └───┘  │                  ░    \n",
       "q_1: ───────┼────■─────────────░────\n",
       "     ┌───┐  │    │             ░    \n",
       "q_2: ┤ X ├──┼────┼────■────────░────\n",
       "     ├───┤  │    │    │        ░    \n",
       "q_3: ┤ X ├──┼────┼────┼────■───░────\n",
       "     └───┘┌─┴─┐┌─┴─┐┌─┴─┐┌─┴─┐ ░ ┌─┐\n",
       "q_4: ─────┤ X ├┤ X ├┤ X ├┤ X ├─░─┤M├\n",
       "          └───┘└───┘└───┘└───┘ ░ └╥┘\n",
       "c: 1/═════════════════════════════╩═\n",
       "                                  0 "
      ]
     },
     "execution_count": 12,
     "metadata": {},
     "output_type": "execute_result"
    }
   ],
   "source": [
    "oracle_c = QuantumCircuit(n+1, 1)\n",
    "b_str = STRING\n",
    "\n",
    "for qubit in range(len(b_str)):\n",
    "    if b_str[qubit] == '1':\n",
    "        oracle_c.x(qubit)\n",
    "        \n",
    "balanced_oracle.barrier()\n",
    "\n",
    "for i in range(len(b_str)):\n",
    "    oracle_c.cx(i, n)\n",
    "    \n",
    "oracle_c.barrier()\n",
    "\n",
    "oracle_c.measure(n, 0)\n",
    "oracle_c.draw()"
   ]
  },
  {
   "cell_type": "code",
   "execution_count": 13,
   "id": "b74656da",
   "metadata": {},
   "outputs": [
    {
     "name": "stdout",
     "output_type": "stream",
     "text": [
      "{'1': 10}\n"
     ]
    },
    {
     "data": {
      "image/png": "[encoded data removed]",
      "text/plain": [
       "<Figure size 700x500 with 1 Axes>"
      ]
     },
     "execution_count": 13,
     "metadata": {},
     "output_type": "execute_result"
    }
   ],
   "source": [
    "simulator = Aer.get_backend('qasm_simulator')\n",
    "job = execute(oracle_c, simulator, shots=10)\n",
    "result = job.result()\n",
    "counts = result.get_counts()\n",
    "print(counts)\n",
    "plot_histogram(counts)"
   ]
  },
  {
   "cell_type": "markdown",
   "id": "5d726390",
   "metadata": {},
   "source": [
    "# 1(b)"
   ]
  },
  {
   "cell_type": "code",
   "execution_count": 14,
   "id": "28c97db5",
   "metadata": {},
   "outputs": [
    {
     "name": "stderr",
     "output_type": "stream",
     "text": [
      "C:\\Users\\User\\AppData\\Local\\Temp\\ipykernel_11108\\460382824.py:12: DeprecationWarning: The QuantumCircuit.__iadd__() method is being deprecated. Use the compose() (potentially with the inplace=True argument) and tensor() methods which are more flexible w.r.t circuit register compatibility.\n",
      "  dj_circuit += balanced_oracle\n"
     ]
    },
    {
     "data": {
      "text/html": [
       "<pre style=\"word-wrap: normal;white-space: pre;background: #fff0;line-height: 1.1;font-family: &quot;Courier New&quot;,Courier,monospace\">     ┌───┐┌───┐ ░                      ░ ┌───┐ ░  ░  ░ ┌───┐ ░ ┌─┐         \n",
       "q_0: ┤ H ├┤ X ├─░───■──────────────────░─┤ X ├─░──░──░─┤ H ├─░─┤M├─────────\n",
       "     ├───┤└───┘ ░   │                  ░ └───┘ ░  ░  ░ ├───┤ ░ └╥┘┌─┐      \n",
       "q_1: ┤ H ├──────░───┼────■─────────────░───────░──░──░─┤ H ├─░──╫─┤M├──────\n",
       "     ├───┤┌───┐ ░   │    │             ░ ┌───┐ ░  ░  ░ ├───┤ ░  ║ └╥┘┌─┐   \n",
       "q_2: ┤ H ├┤ X ├─░───┼────┼────■────────░─┤ X ├─░──░──░─┤ H ├─░──╫──╫─┤M├───\n",
       "     ├───┤├───┤ ░   │    │    │        ░ ├───┤ ░  ░  ░ ├───┤ ░  ║  ║ └╥┘┌─┐\n",
       "q_3: ┤ H ├┤ X ├─░───┼────┼────┼────■───░─┤ X ├─░──░──░─┤ H ├─░──╫──╫──╫─┤M├\n",
       "     ├───┤├───┤ ░ ┌─┴─┐┌─┴─┐┌─┴─┐┌─┴─┐ ░ └───┘ ░  ░  ░ └───┘ ░  ║  ║  ║ └╥┘\n",
       "q_4: ┤ X ├┤ H ├─░─┤ X ├┤ X ├┤ X ├┤ X ├─░───────░──░──░───────░──╫──╫──╫──╫─\n",
       "     └───┘└───┘ ░ └───┘└───┘└───┘└───┘ ░       ░  ░  ░       ░  ║  ║  ║  ║ \n",
       "c: 4/═══════════════════════════════════════════════════════════╩══╩══╩══╩═\n",
       "                                                                0  1  2  3 </pre>"
      ],
      "text/plain": [
       "     ┌───┐┌───┐ ░                      ░ ┌───┐ ░  ░  ░ ┌───┐ ░ ┌─┐         \n",
       "q_0: ┤ H ├┤ X ├─░───■──────────────────░─┤ X ├─░──░──░─┤ H ├─░─┤M├─────────\n",
       "     ├───┤└───┘ ░   │                  ░ └───┘ ░  ░  ░ ├───┤ ░ └╥┘┌─┐      \n",
       "q_1: ┤ H ├──────░───┼────■─────────────░───────░──░──░─┤ H ├─░──╫─┤M├──────\n",
       "     ├───┤┌───┐ ░   │    │             ░ ┌───┐ ░  ░  ░ ├───┤ ░  ║ └╥┘┌─┐   \n",
       "q_2: ┤ H ├┤ X ├─░───┼────┼────■────────░─┤ X ├─░──░──░─┤ H ├─░──╫──╫─┤M├───\n",
       "     ├───┤├───┤ ░   │    │    │        ░ ├───┤ ░  ░  ░ ├───┤ ░  ║  ║ └╥┘┌─┐\n",
       "q_3: ┤ H ├┤ X ├─░───┼────┼────┼────■───░─┤ X ├─░──░──░─┤ H ├─░──╫──╫──╫─┤M├\n",
       "     ├───┤├───┤ ░ ┌─┴─┐┌─┴─┐┌─┴─┐┌─┴─┐ ░ └───┘ ░  ░  ░ └───┘ ░  ║  ║  ║ └╥┘\n",
       "q_4: ┤ X ├┤ H ├─░─┤ X ├┤ X ├┤ X ├┤ X ├─░───────░──░──░───────░──╫──╫──╫──╫─\n",
       "     └───┘└───┘ ░ └───┘└───┘└───┘└───┘ ░       ░  ░  ░       ░  ║  ║  ║  ║ \n",
       "c: 4/═══════════════════════════════════════════════════════════╩══╩══╩══╩═\n",
       "                                                                0  1  2  3 "
      ]
     },
     "execution_count": 14,
     "metadata": {},
     "output_type": "execute_result"
    }
   ],
   "source": [
    "dj_circuit = QuantumCircuit(n+1, n)\n",
    "\n",
    "# Apply H-gates\n",
    "for qubit in range(n):\n",
    "    dj_circuit.h(qubit)\n",
    "\n",
    "# Put qubit in state |->\n",
    "dj_circuit.x(n)\n",
    "dj_circuit.h(n)\n",
    "\n",
    "# Add oracle\n",
    "dj_circuit += balanced_oracle\n",
    "\n",
    "# Repeat H-gates\n",
    "for qubit in range(n):\n",
    "    dj_circuit.h(qubit)\n",
    "dj_circuit.barrier()\n",
    "\n",
    "# Measure\n",
    "for i in range(n):\n",
    "    dj_circuit.measure(i, i)\n",
    "\n",
    "# Display circuit\n",
    "dj_circuit.draw()"
   ]
  },
  {
   "cell_type": "code",
   "execution_count": 15,
   "id": "6ebcfb83",
   "metadata": {},
   "outputs": [
    {
     "name": "stdout",
     "output_type": "stream",
     "text": [
      "{'1111': 1024}\n"
     ]
    },
    {
     "data": {
      "image/png": "[encoded data removed]",
      "text/plain": [
       "<Figure size 700x500 with 1 Axes>"
      ]
     },
     "execution_count": 15,
     "metadata": {},
     "output_type": "execute_result"
    }
   ],
   "source": [
    "# use local simulator\n",
    "aer_sim = Aer.get_backend('aer_simulator')\n",
    "qobj = assemble(dj_circuit, aer_sim)\n",
    "results = aer_sim.run(qobj).result()\n",
    "answer = results.get_counts()\n",
    "print(answer)\n",
    "\n",
    "plot_histogram(answer)"
   ]
  },
  {
   "cell_type": "code",
   "execution_count": 16,
   "id": "06d4dc46",
   "metadata": {},
   "outputs": [],
   "source": [
    "def dj_oracle(case, n):\n",
    "    # We need to make a QuantumCircuit object to return\n",
    "    # This circuit has n+1 qubits: the size of the input,\n",
    "    # plus one output qubit\n",
    "    oracle_qc = QuantumCircuit(n+1)\n",
    "    \n",
    "    # First, let's deal with the case in which oracle is balanced\n",
    "    if case == \"balanced\":\n",
    "        # First generate a random number that tells us which CNOTs to\n",
    "        # wrap in X-gates:\n",
    "        b = np.random.randint(1,2**n)\n",
    "        # Next, format 'b' as a binary string of length 'n', padded with zeros:\n",
    "        b_str = format(b, '0'+str(n)+'b')\n",
    "        # Next, we place the first X-gates. Each digit in our binary string \n",
    "        # corresponds to a qubit, if the digit is 0, we do nothing, if it's 1\n",
    "        # we apply an X-gate to that qubit:\n",
    "        for qubit in range(len(b_str)):\n",
    "            if b_str[qubit] == '1':\n",
    "                oracle_qc.x(qubit)\n",
    "        # Do the controlled-NOT gates for each qubit, using the output qubit \n",
    "        # as the target:\n",
    "        for qubit in range(n):\n",
    "            oracle_qc.cx(qubit, n)\n",
    "        # Next, place the final X-gates\n",
    "        for qubit in range(len(b_str)):\n",
    "            if b_str[qubit] == '1':\n",
    "                oracle_qc.x(qubit)\n",
    "\n",
    "    # Case in which oracle is constant\n",
    "    if case == \"constant\":\n",
    "        # First decide what the fixed output of the oracle will be\n",
    "        # (either always 0 or always 1)\n",
    "        output = np.random.randint(2)\n",
    "        if output == 1:\n",
    "            oracle_qc.x(n)\n",
    "            \n",
    "    if case == \"1a_1\":\n",
    "        for qubit in range(n):\n",
    "            oracle_qc.i(qubit)\n",
    "    if case == \"1a_2\":\n",
    "        for qubit in range(n):\n",
    "            oracle_qc.i(qubit)\n",
    "        oracle_qc.x(n)\n",
    "    if case == \"1a_3\":\n",
    "        for qubit in range(n):\n",
    "            oracle_qc.cx(qubit, n)\n",
    "    \n",
    "    oracle_gate = oracle_qc.to_gate()\n",
    "    oracle_gate.name = \"Oracle\" # To show when we display the circuit\n",
    "    return oracle_gate"
   ]
  },
  {
   "cell_type": "code",
   "execution_count": 17,
   "id": "a3fc2071",
   "metadata": {},
   "outputs": [],
   "source": [
    "def dj_algorithm(oracle, n):\n",
    "    dj_circuit = QuantumCircuit(n+1, n)\n",
    "    # Set up the output qubit:\n",
    "    dj_circuit.x(n)\n",
    "    dj_circuit.h(n)\n",
    "    # And set up the input register:\n",
    "    for qubit in range(n):\n",
    "        dj_circuit.h(qubit)\n",
    "    # Let's append the oracle gate to our circuit:\n",
    "    dj_circuit.append(oracle, range(n+1))\n",
    "    # Finally, perform the H-gates again and measure:\n",
    "    for qubit in range(n):\n",
    "        dj_circuit.h(qubit)\n",
    "    \n",
    "    for i in range(n):\n",
    "        dj_circuit.measure(i, i)\n",
    "    \n",
    "    return dj_circuit"
   ]
  },
  {
   "cell_type": "code",
   "execution_count": 18,
   "id": "651e6017",
   "metadata": {},
   "outputs": [
    {
     "data": {
      "text/html": [
       "<pre style=\"word-wrap: normal;white-space: pre;background: #fff0;line-height: 1.1;font-family: &quot;Courier New&quot;,Courier,monospace\">     ┌───┐     ┌─────────┐┌───┐┌─┐         \n",
       "q_0: ┤ H ├─────┤0        ├┤ H ├┤M├─────────\n",
       "     ├───┤     │         │├───┤└╥┘┌─┐      \n",
       "q_1: ┤ H ├─────┤1        ├┤ H ├─╫─┤M├──────\n",
       "     ├───┤     │         │├───┤ ║ └╥┘┌─┐   \n",
       "q_2: ┤ H ├─────┤2 Oracle ├┤ H ├─╫──╫─┤M├───\n",
       "     ├───┤     │         │├───┤ ║  ║ └╥┘┌─┐\n",
       "q_3: ┤ H ├─────┤3        ├┤ H ├─╫──╫──╫─┤M├\n",
       "     ├───┤┌───┐│         │└───┘ ║  ║  ║ └╥┘\n",
       "q_4: ┤ X ├┤ H ├┤4        ├──────╫──╫──╫──╫─\n",
       "     └───┘└───┘└─────────┘      ║  ║  ║  ║ \n",
       "c: 4/═══════════════════════════╩══╩══╩══╩═\n",
       "                                0  1  2  3 </pre>"
      ],
      "text/plain": [
       "     ┌───┐     ┌─────────┐┌───┐┌─┐         \n",
       "q_0: ┤ H ├─────┤0        ├┤ H ├┤M├─────────\n",
       "     ├───┤     │         │├───┤└╥┘┌─┐      \n",
       "q_1: ┤ H ├─────┤1        ├┤ H ├─╫─┤M├──────\n",
       "     ├───┤     │         │├───┤ ║ └╥┘┌─┐   \n",
       "q_2: ┤ H ├─────┤2 Oracle ├┤ H ├─╫──╫─┤M├───\n",
       "     ├───┤     │         │├───┤ ║  ║ └╥┘┌─┐\n",
       "q_3: ┤ H ├─────┤3        ├┤ H ├─╫──╫──╫─┤M├\n",
       "     ├───┤┌───┐│         │└───┘ ║  ║  ║ └╥┘\n",
       "q_4: ┤ X ├┤ H ├┤4        ├──────╫──╫──╫──╫─\n",
       "     └───┘└───┘└─────────┘      ║  ║  ║  ║ \n",
       "c: 4/═══════════════════════════╩══╩══╩══╩═\n",
       "                                0  1  2  3 "
      ]
     },
     "execution_count": 18,
     "metadata": {},
     "output_type": "execute_result"
    }
   ],
   "source": [
    "n = 4\n",
    "oracle_gate = dj_oracle('1a_3', n)\n",
    "dj_circuit = dj_algorithm(oracle_gate, n)\n",
    "dj_circuit.draw()"
   ]
  },
  {
   "cell_type": "code",
   "execution_count": 19,
   "id": "419f87f0",
   "metadata": {},
   "outputs": [
    {
     "data": {
      "image/png": "[encoded data removed]",
      "text/plain": [
       "<Figure size 700x500 with 1 Axes>"
      ]
     },
     "execution_count": 19,
     "metadata": {},
     "output_type": "execute_result"
    }
   ],
   "source": [
    "transpiled_dj_circuit = transpile(dj_circuit, aer_sim)\n",
    "qobj = assemble(transpiled_dj_circuit)\n",
    "results = aer_sim.run(qobj).result()\n",
    "answer = results.get_counts()\n",
    "plot_histogram(answer)"
   ]
  }
 ],
 "metadata": {
  "kernelspec": {
   "display_name": "Python 3 (ipykernel)",
   "language": "python",
   "name": "python3"
  },
  "language_info": {
   "codemirror_mode": {
    "name": "ipython",
    "version": 3
   },
   "file_extension": ".py",
   "mimetype": "text/x-python",
   "name": "python",
   "nbconvert_exporter": "python",
   "pygments_lexer": "ipython3",
   "version": "3.10.4"
  },
  "toc": {
   "base_numbering": 1,
   "nav_menu": {},
   "number_sections": true,
   "sideBar": true,
   "skip_h1_title": false,
   "title_cell": "Table of Contents",
   "title_sidebar": "Contents",
   "toc_cell": false,
   "toc_position": {},
   "toc_section_display": true,
   "toc_window_display": false
  }
 },
 "nbformat": 4,
 "nbformat_minor": 5
}
