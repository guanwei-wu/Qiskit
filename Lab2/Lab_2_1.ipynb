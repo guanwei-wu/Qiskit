{
 "cells": [
  {
   "cell_type": "markdown",
   "id": "174d875a",
   "metadata": {},
   "source": [
    "# 1.1"
   ]
  },
  {
   "cell_type": "code",
   "execution_count": 1,
   "id": "4132144d",
   "metadata": {},
   "outputs": [],
   "source": [
    "import qiskit\n",
    "import numpy as np\n",
    "from qiskit import *\n",
    "from qiskit.visualization import plot_histogram, plot_bloch_multivector, plot_histogram\n",
    "from numpy.random import randint"
   ]
  },
  {
   "cell_type": "code",
   "execution_count": 2,
   "id": "c58114be",
   "metadata": {},
   "outputs": [],
   "source": [
    "# Setting the random seed\n",
    "np.random.seed(seed=123) # You may choose any seed instead of just `0'\n",
    "n = 4 # This is the number of bits in the string\n",
    "\n",
    "# alice_bits = randint(2, size=n)\n",
    "# print(alice_bits)"
   ]
  },
  {
   "cell_type": "code",
   "execution_count": 3,
   "id": "02fb9fe1",
   "metadata": {},
   "outputs": [],
   "source": [
    "# alice_mem = []\n",
    "# bob_mem = []"
   ]
  },
  {
   "cell_type": "code",
   "execution_count": 4,
   "id": "8c85a362",
   "metadata": {},
   "outputs": [
    {
     "name": "stdout",
     "output_type": "stream",
     "text": [
      "[0 1 0 0]\n"
     ]
    },
    {
     "data": {
      "text/html": [
       "<pre style=\"word-wrap: normal;white-space: pre;background: #fff0;line-height: 1.1;font-family: &quot;Courier New&quot;,Courier,monospace\">           ┌───┐┌───┐┌───┐     ┌───┐   ┌─┐\n",
       "q0_0: ─────┤ X ├┤ X ├┤ I ├──■──┤ H ├───┤M├\n",
       "      ┌───┐└─┬─┘└───┘└───┘┌─┴─┐└┬─┬┘   └╥┘\n",
       "q0_1: ┤ H ├──■────────────┤ X ├─┤M├─────╫─\n",
       "      └───┘┌───┐┌───┐     ├───┤ └╥┘ ┌─┐ ║ \n",
       "q0_2: ─────┤ X ├┤ I ├──■──┤ H ├──╫──┤M├─╫─\n",
       "      ┌───┐└─┬─┘└───┘┌─┴─┐└┬─┬┘  ║  └╥┘ ║ \n",
       "q0_3: ┤ H ├──■───────┤ X ├─┤M├───╫───╫──╫─\n",
       "      └───┘          └───┘ └╥┘   ║   ║  ║ \n",
       "c0: 4/══════════════════════╩════╩═══╩══╩═\n",
       "                            3    1   2  0 </pre>"
      ],
      "text/plain": [
       "           ┌───┐┌───┐┌───┐     ┌───┐   ┌─┐\n",
       "q0_0: ─────┤ X ├┤ X ├┤ I ├──■──┤ H ├───┤M├\n",
       "      ┌───┐└─┬─┘└───┘└───┘┌─┴─┐└┬─┬┘   └╥┘\n",
       "q0_1: ┤ H ├──■────────────┤ X ├─┤M├─────╫─\n",
       "      └───┘┌───┐┌───┐     ├───┤ └╥┘ ┌─┐ ║ \n",
       "q0_2: ─────┤ X ├┤ I ├──■──┤ H ├──╫──┤M├─╫─\n",
       "      ┌───┐└─┬─┘└───┘┌─┴─┐└┬─┬┘  ║  └╥┘ ║ \n",
       "q0_3: ┤ H ├──■───────┤ X ├─┤M├───╫───╫──╫─\n",
       "      └───┘          └───┘ └╥┘   ║   ║  ║ \n",
       "c0: 4/══════════════════════╩════╩═══╩══╩═\n",
       "                            3    1   2  0 "
      ]
     },
     "execution_count": 4,
     "metadata": {},
     "output_type": "execute_result"
    }
   ],
   "source": [
    "# for i in range(10):\n",
    "\n",
    "q = QuantumRegister(4)\n",
    "c = ClassicalRegister(4)\n",
    "circuit = QuantumCircuit(q, c)\n",
    "\n",
    "alice_bits = randint(2, size=n)\n",
    "print(alice_bits)\n",
    "\n",
    "#     temp = ''\n",
    "#     for i in range(4) : temp += str(alice_bits[i])\n",
    "#     alice_mem.append(temp)\n",
    "\n",
    "# HSB\n",
    "circuit.h(q[1])\n",
    "circuit.cnot(q[1], q[0])\n",
    "\n",
    "if alice_bits[0] == 1 : circuit.z(q[0])\n",
    "if alice_bits[1] == 1 : circuit.x(q[0])\n",
    "\n",
    "circuit.i(q[0])\n",
    "circuit.cnot(q[0], q[1])\n",
    "circuit.h(q[0])\n",
    "\n",
    "# LSB\n",
    "circuit.h(q[3])\n",
    "circuit.cnot(q[3], q[2])\n",
    "\n",
    "if alice_bits[2] == 1 : circuit.z(q[2])\n",
    "if alice_bits[3] == 1 : circuit.x(q[2])\n",
    "\n",
    "circuit.i(q[2])\n",
    "circuit.cnot(q[2], q[3])\n",
    "circuit.h(q[2])\n",
    "\n",
    "circuit.measure(q, c)\n",
    "\n",
    "circuit.draw()"
   ]
  },
  {
   "cell_type": "code",
   "execution_count": 5,
   "id": "3bb3ebf2",
   "metadata": {},
   "outputs": [
    {
     "name": "stdout",
     "output_type": "stream",
     "text": [
      "{'0010': 256}\n"
     ]
    },
    {
     "data": {
      "image/png": "[encoded data removed]",
      "text/plain": [
       "<Figure size 700x500 with 1 Axes>"
      ]
     },
     "execution_count": 5,
     "metadata": {},
     "output_type": "execute_result"
    }
   ],
   "source": [
    "simulator = Aer.get_backend('qasm_simulator')\n",
    "job = execute(circuit, simulator, shots=256, memory=True) # memory=True\n",
    "result = job.result()\n",
    "counts = result.get_counts()\n",
    "print(counts)\n",
    "plot_histogram(counts)\n",
    "\n",
    "#     mem = result.get_memory()\n",
    "#     bob_mem.append(mem[0])"
   ]
  },
  {
   "cell_type": "code",
   "execution_count": 6,
   "id": "63e836ad",
   "metadata": {},
   "outputs": [
    {
     "name": "stdout",
     "output_type": "stream",
     "text": [
      "SER =  0.0\n",
      "BER =  0.0\n"
     ]
    }
   ],
   "source": [
    "# print(alice_mem)\n",
    "# print(bob_mem)\n",
    "\n",
    "mem = result.get_memory()\n",
    "# print(mem)\n",
    "\n",
    "target = ''\n",
    "for i in range(len(alice_bits)):\n",
    "    target += str(alice_bits[len(alice_bits)-1-i])\n",
    "# print(target)\n",
    "# print(target==mem[0])\n",
    "\n",
    "# ==================================================\n",
    "\n",
    "# SER/PER\n",
    "sym_bits = 2\n",
    "total_sym = len(mem) * (len(mem[0])/sym_bits)\n",
    "error_sym = 0\n",
    "for i in range(len(mem)):\n",
    "    for j in range(int(len(mem[0])/sym_bits)):\n",
    "        if target[j*sym_bits:(j+1)*sym_bits] != mem[i][j*sym_bits:(j+1)*sym_bits]:\n",
    "            error_sym += 1\n",
    "print(\"SER = \", error_sym / total_sym)\n",
    "\n",
    "# BER\n",
    "sym_bits = 1\n",
    "total_sym = len(mem) * (len(mem[0])/sym_bits)\n",
    "error_sym = 0\n",
    "for i in range(len(mem)):\n",
    "    for j in range(int(len(mem[0])/sym_bits)):\n",
    "        if target[j*sym_bits:(j+1)*sym_bits] != mem[i][j*sym_bits:(j+1)*sym_bits]:\n",
    "            error_sym += 1\n",
    "print(\"BER = \", error_sym / total_sym)"
   ]
  },
  {
   "cell_type": "markdown",
   "id": "99ff1c6a",
   "metadata": {},
   "source": [
    "# 1.2"
   ]
  },
  {
   "cell_type": "code",
   "execution_count": 7,
   "id": "389123c5",
   "metadata": {},
   "outputs": [
    {
     "name": "stderr",
     "output_type": "stream",
     "text": [
      "configrc.store_credentials:WARNING:2022-10-03 13:34:25,121: Credentials already present. Set overwrite=True to overwrite.\n"
     ]
    }
   ],
   "source": [
    "from qiskit import IBMQ\n",
    "from qiskit.providers.ibmq import least_busy\n",
    "\n",
    "apitoken = \"8f84cb4cd160cd4c1ca646b369894917e3cb1cd76a7dfcb48cf76d5cd9a44e3a08c86c0e3a456c6a7b3d24de29d8e5d10972fd0dd9272631451066746885e1b4\"\n",
    "IBMQ.save_account(apitoken)"
   ]
  },
  {
   "cell_type": "code",
   "execution_count": 8,
   "id": "1bf7ace0",
   "metadata": {},
   "outputs": [],
   "source": [
    "# shots = 256\n",
    "\n",
    "# Load local account information\n",
    "# IBMQ.load_account()\n",
    "\n",
    "# # Get the least busy backend\n",
    "# provider = IBMQ.get_provider(hub='ibm-q')\n",
    "# backend = least_busy(provider.backends(filters=lambda x:\n",
    "# x.configuration().n_qubits >= 2\n",
    "# and not x.configuration().simulator\n",
    "# and x.status().operational==True))\n",
    "# print(\"least busy backend: \", backend)\n",
    "\n",
    "# Run our circuit\n",
    "# job = execute(qc, backend=backend, shots=shots)"
   ]
  },
  {
   "cell_type": "code",
   "execution_count": 9,
   "id": "4a928c72",
   "metadata": {},
   "outputs": [],
   "source": [
    "# alice_mem = []\n",
    "# bob_mem = []\n",
    "from qiskit.tools.monitor import job_monitor"
   ]
  },
  {
   "cell_type": "code",
   "execution_count": 10,
   "id": "ed77313d",
   "metadata": {},
   "outputs": [
    {
     "name": "stdout",
     "output_type": "stream",
     "text": [
      "[0 1 0 0]\n"
     ]
    },
    {
     "data": {
      "text/html": [
       "<pre style=\"word-wrap: normal;white-space: pre;background: #fff0;line-height: 1.1;font-family: &quot;Courier New&quot;,Courier,monospace\">            ┌───┐┌───┐┌───┐     ┌───┐   ┌─┐\n",
       "q14_0: ─────┤ X ├┤ X ├┤ I ├──■──┤ H ├───┤M├\n",
       "       ┌───┐└─┬─┘└───┘└───┘┌─┴─┐└┬─┬┘   └╥┘\n",
       "q14_1: ┤ H ├──■────────────┤ X ├─┤M├─────╫─\n",
       "       └───┘┌───┐┌───┐     ├───┤ └╥┘ ┌─┐ ║ \n",
       "q14_2: ─────┤ X ├┤ I ├──■──┤ H ├──╫──┤M├─╫─\n",
       "       ┌───┐└─┬─┘└───┘┌─┴─┐└┬─┬┘  ║  └╥┘ ║ \n",
       "q14_3: ┤ H ├──■───────┤ X ├─┤M├───╫───╫──╫─\n",
       "       └───┘          └───┘ └╥┘   ║   ║  ║ \n",
       " c1: 4/══════════════════════╩════╩═══╩══╩═\n",
       "                             3    1   2  0 </pre>"
      ],
      "text/plain": [
       "            ┌───┐┌───┐┌───┐     ┌───┐   ┌─┐\n",
       "q14_0: ─────┤ X ├┤ X ├┤ I ├──■──┤ H ├───┤M├\n",
       "       ┌───┐└─┬─┘└───┘└───┘┌─┴─┐└┬─┬┘   └╥┘\n",
       "q14_1: ┤ H ├──■────────────┤ X ├─┤M├─────╫─\n",
       "       └───┘┌───┐┌───┐     ├───┤ └╥┘ ┌─┐ ║ \n",
       "q14_2: ─────┤ X ├┤ I ├──■──┤ H ├──╫──┤M├─╫─\n",
       "       ┌───┐└─┬─┘└───┘┌─┴─┐└┬─┬┘  ║  └╥┘ ║ \n",
       "q14_3: ┤ H ├──■───────┤ X ├─┤M├───╫───╫──╫─\n",
       "       └───┘          └───┘ └╥┘   ║   ║  ║ \n",
       " c1: 4/══════════════════════╩════╩═══╩══╩═\n",
       "                             3    1   2  0 "
      ]
     },
     "execution_count": 10,
     "metadata": {},
     "output_type": "execute_result"
    }
   ],
   "source": [
    "# for i in range(256):\n",
    "\n",
    "q = QuantumRegister(4)\n",
    "c = ClassicalRegister(4)\n",
    "circuit = QuantumCircuit(q, c)\n",
    "\n",
    "# alice_bits = randint(2, size=n)\n",
    "print(alice_bits)\n",
    "\n",
    "#     temp = ''\n",
    "#     for i in range(4) : temp += str(alice_bits[i])\n",
    "#     alice_mem.append(temp)\n",
    "\n",
    "# HSB\n",
    "circuit.h(q[1])\n",
    "circuit.cnot(q[1], q[0])\n",
    "\n",
    "if alice_bits[0] == 1 : circuit.z(q[0])\n",
    "if alice_bits[1] == 1 : circuit.x(q[0])\n",
    "\n",
    "circuit.i(q[0])\n",
    "circuit.cnot(q[0], q[1])\n",
    "circuit.h(q[0])\n",
    "\n",
    "# LSB\n",
    "circuit.h(q[3])\n",
    "circuit.cnot(q[3], q[2])\n",
    "\n",
    "if alice_bits[2] == 1 : circuit.z(q[2])\n",
    "if alice_bits[3] == 1 : circuit.x(q[2])\n",
    "\n",
    "circuit.i(q[2])\n",
    "circuit.cnot(q[2], q[3])\n",
    "circuit.h(q[2])\n",
    "\n",
    "circuit.measure(q, c)\n",
    "\n",
    "circuit.draw()\n",
    "\n",
    "#     mem = result.get_memory()\n",
    "#     bob_mem.append(mem[0])"
   ]
  },
  {
   "cell_type": "code",
   "execution_count": 11,
   "id": "4179ff0f",
   "metadata": {},
   "outputs": [
    {
     "name": "stdout",
     "output_type": "stream",
     "text": [
      "Job Status: job has successfully run\n"
     ]
    }
   ],
   "source": [
    "IBMQ.load_account()\n",
    "provider = IBMQ.get_provider(hub='ibm-q', group='open', project='main')\n",
    "qcomp = provider.get_backend('ibmq_manila')\n",
    "job = execute(circuit, backend=qcomp, shots=256, memory=True)\n",
    "\n",
    "job_monitor(job)"
   ]
  },
  {
   "cell_type": "code",
   "execution_count": 12,
   "id": "5ad2536f",
   "metadata": {},
   "outputs": [
    {
     "name": "stdout",
     "output_type": "stream",
     "text": [
      "{'0000': 11, '0001': 1, '0010': 222, '0011': 9, '0100': 1, '0110': 3, '0111': 1, '1010': 7, '1110': 1}\n"
     ]
    },
    {
     "data": {
      "image/png": "[encoded data removed]",
      "text/plain": [
       "<Figure size 700x500 with 1 Axes>"
      ]
     },
     "execution_count": 12,
     "metadata": {},
     "output_type": "execute_result"
    }
   ],
   "source": [
    "result = job.result()\n",
    "counts = result.get_counts()\n",
    "print(counts)\n",
    "plot_histogram(counts)"
   ]
  },
  {
   "cell_type": "code",
   "execution_count": 13,
   "id": "758719e8",
   "metadata": {},
   "outputs": [
    {
     "name": "stdout",
     "output_type": "stream",
     "text": [
      "SER =  0.0703125\n",
      "BER =  0.037109375\n"
     ]
    }
   ],
   "source": [
    "mem = result.get_memory()\n",
    "# print(mem)\n",
    "\n",
    "target = ''\n",
    "for i in range(len(alice_bits)):\n",
    "    target += str(alice_bits[len(alice_bits)-1-i])\n",
    "# print(target)\n",
    "# print(target==mem[0])\n",
    "\n",
    "# ==================================================\n",
    "\n",
    "# SER/PER\n",
    "sym_bits = 2\n",
    "total_sym = len(mem) * (len(mem[0])/sym_bits)\n",
    "error_sym = 0\n",
    "for i in range(len(mem)):\n",
    "    for j in range(int(len(mem[0])/sym_bits)):\n",
    "        if target[j*sym_bits:(j+1)*sym_bits] != mem[i][j*sym_bits:(j+1)*sym_bits]:\n",
    "            error_sym += 1\n",
    "print(\"SER = \", error_sym / total_sym)\n",
    "\n",
    "# BER\n",
    "sym_bits = 1\n",
    "total_sym = len(mem) * (len(mem[0])/sym_bits)\n",
    "error_sym = 0\n",
    "for i in range(len(mem)):\n",
    "    for j in range(int(len(mem[0])/sym_bits)):\n",
    "        if target[j*sym_bits:(j+1)*sym_bits] != mem[i][j*sym_bits:(j+1)*sym_bits]:\n",
    "            error_sym += 1\n",
    "print(\"BER = \", error_sym / total_sym)"
   ]
  }
 ],
 "metadata": {
  "kernelspec": {
   "display_name": "Python 3 (ipykernel)",
   "language": "python",
   "name": "python3"
  },
  "language_info": {
   "codemirror_mode": {
    "name": "ipython",
    "version": 3
   },
   "file_extension": ".py",
   "mimetype": "text/x-python",
   "name": "python",
   "nbconvert_exporter": "python",
   "pygments_lexer": "ipython3",
   "version": "3.10.4"
  },
  "toc": {
   "base_numbering": 1,
   "nav_menu": {},
   "number_sections": true,
   "sideBar": true,
   "skip_h1_title": false,
   "title_cell": "Table of Contents",
   "title_sidebar": "Contents",
   "toc_cell": false,
   "toc_position": {},
   "toc_section_display": true,
   "toc_window_display": false
  }
 },
 "nbformat": 4,
 "nbformat_minor": 5
}
