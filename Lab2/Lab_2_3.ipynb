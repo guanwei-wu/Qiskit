{
 "cells": [
  {
   "cell_type": "code",
   "execution_count": 1,
   "id": "f678da8e",
   "metadata": {},
   "outputs": [
    {
     "name": "stdout",
     "output_type": "stream",
     "text": [
      "Requirement already satisfied: tqdm in c:\\users\\user\\anaconda3\\envs\\ibmq\\lib\\site-packages (4.64.1)\n",
      "Requirement already satisfied: colorama in c:\\users\\user\\anaconda3\\envs\\ibmq\\lib\\site-packages (from tqdm) (0.4.5)\n"
     ]
    }
   ],
   "source": [
    "!pip install tqdm"
   ]
  },
  {
   "cell_type": "code",
   "execution_count": 2,
   "id": "eb6a11e5",
   "metadata": {},
   "outputs": [],
   "source": [
    "from qiskit import *\n",
    "from qiskit.visualization import plot_histogram\n",
    "from numpy.random import randint\n",
    "import numpy as np\n",
    "from math import pi, acos\n",
    "\n",
    "from tqdm import tqdm"
   ]
  },
  {
   "cell_type": "code",
   "execution_count": 3,
   "id": "c46a6322",
   "metadata": {},
   "outputs": [
    {
     "name": "stdout",
     "output_type": "stream",
     "text": [
      "[0 1 0 0 0 0 0 1 1 0 1 1 0 1 0 1 0 1 1 0 0 0 1 1 1 0 1 0 0 0 0 1 1 1 0 0 1\n",
      " 0 0 1 0 1 0 1 1 1 0 0 0 0 1 1 0 0 1 0 1 0 0 1 0 1 0 1 0 0 0 0 1 0 0 1 1 1\n",
      " 1 0 0 0 0 1 1 0 0 0 0 1 0 1 1 0 1 1 1 0 1 1 1 0 0 0]\n",
      "Alice's first bit = 0\n"
     ]
    }
   ],
   "source": [
    "n = 100; # number of qubits used in the BB84\n",
    "np.random.seed(seed=123)\n",
    "## Step 1\n",
    "# Alice generates bits\n",
    "alice_bits = randint(2, size=n)\n",
    "\n",
    "print(alice_bits)\n",
    "print(\"Alice's first bit = %i\" % alice_bits[0])"
   ]
  },
  {
   "cell_type": "code",
   "execution_count": 4,
   "id": "c58a2170",
   "metadata": {},
   "outputs": [],
   "source": [
    "def encode_message(bits, bases):\n",
    "    message = []\n",
    "    for i in range(n):\n",
    "        qc = QuantumCircuit(1,1)\n",
    "        if bases[i] == 0: # Prepare qubit in Z-basis\n",
    "            if bits[i] == 0:\n",
    "                pass \n",
    "            else:\n",
    "                qc.x(0)\n",
    "        else: # Prepare qubit in X-basis\n",
    "            if bits[i] == 0:\n",
    "                qc.h(0)\n",
    "            else:\n",
    "                qc.x(0)\n",
    "                qc.h(0)\n",
    "        qc.barrier()\n",
    "        message.append(qc)\n",
    "    return message"
   ]
  },
  {
   "cell_type": "code",
   "execution_count": 5,
   "id": "5e067ba9",
   "metadata": {},
   "outputs": [],
   "source": [
    "def encode_message_bonus(bits, bases):\n",
    "    message = []\n",
    "    for i in range(n):\n",
    "        qc = QuantumCircuit(1,1)\n",
    "        if bases[i] == 0: # Prepare qubit in Z-basis\n",
    "            if bits[i] == 0:\n",
    "                pass \n",
    "            else:\n",
    "                qc.x(0)\n",
    "        elif bases[i] == 1: # Prepare qubit in X-basis\n",
    "            if bits[i] == 0:\n",
    "                qc.h(0)\n",
    "            else:\n",
    "                qc.x(0)\n",
    "                qc.h(0)\n",
    "        else:\n",
    "            if bits[i] == 0:\n",
    "                qc.u3(pi/2, pi/2, pi, 0)\n",
    "            else:\n",
    "                qc.x(0)\n",
    "                qc.u3(pi/2, pi/2, pi, 0)\n",
    "            \n",
    "        qc.barrier()\n",
    "        message.append(qc)\n",
    "    return message"
   ]
  },
  {
   "cell_type": "code",
   "execution_count": 6,
   "id": "80a60412",
   "metadata": {},
   "outputs": [
    {
     "name": "stdout",
     "output_type": "stream",
     "text": [
      "[1 0 0 1 1 1 0 1 1 0 0 1 1 0 1 1 1 1 1 1 1 0 1 1 1 1 0 0 0 1 1 0 0 1 1 0 0\n",
      " 0 1 0 1 1 0 0 1 0 1 1 1 1 0 1 0 1 0 0 1 1 0 1 1 1 0 1 1 1 1 0 0 1 1 0 0 1\n",
      " 0 0 0 1 0 1 1 0 0 0 1 0 0 1 0 0 1 0 0 1 0 0 0 0 1 0]\n",
      "Alice's first chosen basis = 1\n"
     ]
    }
   ],
   "source": [
    "## Step 2\n",
    "# Create an array to tell us which qubits are encoded in which bases\n",
    "alice_bases = randint(2, size=n)\n",
    "message = encode_message(alice_bits, alice_bases)\n",
    "print(alice_bases)\n",
    "print(\"Alice's first chosen basis = %i\" % alice_bases[0])"
   ]
  },
  {
   "cell_type": "code",
   "execution_count": 7,
   "id": "de643127",
   "metadata": {},
   "outputs": [],
   "source": [
    "def intercept_message(message, bases):\n",
    "    backend = Aer.get_backend('qasm_simulator')\n",
    "    measurements = []\n",
    "    for q in range(n):\n",
    "        if bases[q] == 0: # measuring in Z-basis\n",
    "            message[q].measure(0,0)\n",
    "        if bases[q] == 1: # measuring in X-basis\n",
    "            message[q].h(0)\n",
    "            message[q].measure(0,0)\n",
    "            message[q].h(0) # preparing the post-measurement state\n",
    "        result = execute(message[q], backend, shots=1, memory=True).result()\n",
    "        measured_bit = int(result.get_memory()[0])\n",
    "        measurements.append(measured_bit)\n",
    "    return measurements"
   ]
  },
  {
   "cell_type": "code",
   "execution_count": 8,
   "id": "55d643dc",
   "metadata": {},
   "outputs": [],
   "source": [
    "def intercept_message_v2(message, bases):\n",
    "    backend = Aer.get_backend('qasm_simulator')\n",
    "    measurements = []\n",
    "    for q in range(n):\n",
    "        message[q].ry(pi*(3/4), 0)\n",
    "        message[q].measure(0,0)\n",
    "        message[q].ry(pi*(-3/4), 0) # preparing the post-measurement state\n",
    "        result = execute(message[q], backend, shots=1, memory=True).result()\n",
    "        measured_bit = int(result.get_memory()[0])\n",
    "        measurements.append(measured_bit)\n",
    "    return measurements"
   ]
  },
  {
   "cell_type": "code",
   "execution_count": 9,
   "id": "ee8fe484",
   "metadata": {},
   "outputs": [],
   "source": [
    "def intercept_message_bonus(message, bases):\n",
    "    backend = Aer.get_backend('qasm_simulator')\n",
    "    measurements = []\n",
    "    for q in range(n):\n",
    "        if bases[q] == 0: # measuring in Z-basis\n",
    "            message[q].measure(0,0)\n",
    "        if bases[q] == 1: # measuring in X-basis\n",
    "            message[q].h(0)\n",
    "            message[q].measure(0,0)\n",
    "            message[q].h(0) # preparing the post-measurement state\n",
    "        if bases[q] == 2:\n",
    "            message[q].u3(pi/2, 0, pi/2, 0)\n",
    "            message[q].measure(0, 0)\n",
    "            message[q].u3(pi/2, pi/2, pi, 0)\n",
    "        result = execute(message[q], backend, shots=1, memory=True).result()\n",
    "        measured_bit = int(result.get_memory()[0])\n",
    "        measurements.append(measured_bit)\n",
    "    return measurements"
   ]
  },
  {
   "cell_type": "code",
   "execution_count": 21,
   "id": "0a665636",
   "metadata": {},
   "outputs": [],
   "source": [
    "def intercept_message_bonus_v2(message, bases):\n",
    "    backend = Aer.get_backend('qasm_simulator')\n",
    "    measurements = []\n",
    "    for q in range(n):\n",
    "        message[q].u3(-acos(1/(3**(1/2))), -pi, -pi/4, 0)\n",
    "        message[q].measure(0, 0)\n",
    "        message[q].u3(acos(1/(3**(1/2))), pi/4, pi, 0)\n",
    "        result = execute(message[q], backend, shots=1, memory=True).result()\n",
    "        measured_bit = int(result.get_memory()[0])\n",
    "        measurements.append(measured_bit)\n",
    "    return measurements"
   ]
  },
  {
   "cell_type": "code",
   "execution_count": 11,
   "id": "0f5bebd5",
   "metadata": {},
   "outputs": [
    {
     "name": "stdout",
     "output_type": "stream",
     "text": [
      "[1 1 0 0 0 1 0 0 0 1 0 0 0 1 0 1 1 1 1 0 1 1 1 1 0 0 1 1 1 1 1 0 0 1 1 1 0\n",
      " 1 0 0 0 1 1 1 0 1 0 0 1 1 1 0 1 1 0 0 0 1 0 1 1 0 0 1 1 1 1 1 0 1 1 1 0 1\n",
      " 1 0 0 0 1 1 0 0 1 0 0 0 1 0 1 1 1 0 1 1 1 0 0 0 0 1]\n",
      "Eve's first chosen basis = 1\n",
      "[0, 1, 0, 1, 1, 0, 0, 0, 0, 1, 1, 0, 1, 1, 0, 1, 0, 1, 1, 0, 0, 0, 1, 1, 0, 1, 0, 1, 1, 0, 0, 1, 1, 1, 0, 0, 1, 0, 1, 1, 0, 1, 1, 1, 1, 0, 1, 1, 0, 0, 1, 1, 0, 0, 1, 0, 1, 0, 0, 1, 0, 1, 0, 1, 0, 0, 0, 1, 1, 0, 0, 0, 1, 1, 0, 0, 0, 0, 0, 1, 1, 0, 1, 0, 1, 1, 0, 0, 0, 0, 1, 1, 1, 0, 0, 1, 1, 0, 1, 1]\n",
      "Eve's first intercepted message = 0\n"
     ]
    }
   ],
   "source": [
    "## Interception!!\n",
    "eve_bases = randint(2, size=n)\n",
    "intercepted_message = intercept_message(message, eve_bases)\n",
    "print(eve_bases)\n",
    "print(\"Eve's first chosen basis = %i\" % alice_bases[0])\n",
    "print(intercepted_message)\n",
    "print(\"Eve's first intercepted message = %i\" % intercepted_message[0])"
   ]
  },
  {
   "cell_type": "code",
   "execution_count": 12,
   "id": "d20ebce4",
   "metadata": {},
   "outputs": [],
   "source": [
    "def measure_message(message, bases):\n",
    "    backend = Aer.get_backend('aer_simulator')\n",
    "    measurements = []\n",
    "    for q in range(n):\n",
    "        if bases[q] == 0: # measuring in Z-basis\n",
    "            message[q].measure(0,0)\n",
    "        if bases[q] == 1: # measuring in X-basis\n",
    "            message[q].h(0)\n",
    "            message[q].measure(0,0)\n",
    "        aer_sim = Aer.get_backend('aer_simulator')\n",
    "        qobj = assemble(message[q], shots=1, memory=True)\n",
    "        result = aer_sim.run(qobj).result()\n",
    "        measured_bit = int(result.get_memory()[0])\n",
    "        measurements.append(measured_bit)\n",
    "    return measurements"
   ]
  },
  {
   "cell_type": "code",
   "execution_count": 13,
   "id": "8d25aaa7",
   "metadata": {},
   "outputs": [],
   "source": [
    "def measure_message_bonus(message, bases):\n",
    "    backend = Aer.get_backend('aer_simulator')\n",
    "    measurements = []\n",
    "    for q in range(n):\n",
    "        if bases[q] == 0: # measuring in Z-basis\n",
    "            message[q].measure(0,0)\n",
    "        if bases[q] == 1: # measuring in X-basis\n",
    "            message[q].h(0)\n",
    "            message[q].measure(0,0)\n",
    "        if bases[q] == 2:\n",
    "            message[q].u3(pi/2, 0, pi/2, 0)\n",
    "            message[q].measure(0, 0)\n",
    "        aer_sim = Aer.get_backend('aer_simulator')\n",
    "        qobj = assemble(message[q], shots=1, memory=True)\n",
    "        result = aer_sim.run(qobj).result()\n",
    "        measured_bit = int(result.get_memory()[0])\n",
    "        measurements.append(measured_bit)\n",
    "    return measurements"
   ]
  },
  {
   "cell_type": "code",
   "execution_count": 14,
   "id": "91938161",
   "metadata": {},
   "outputs": [
    {
     "name": "stdout",
     "output_type": "stream",
     "text": [
      "[0 1 1 1 1 0 1 1 1 1 1 1 0 0 1 0 0 1 0 1 1 1 1 1 1 0 1 1 1 0 0 0 1 1 0 1 0\n",
      " 0 1 0 1 1 0 0 0 0 1 1 1 1 1 0 1 0 1 1 1 0 0 1 0 0 1 0 0 0 0 0 1 1 0 1 0 0\n",
      " 0 1 1 0 1 0 1 0 1 1 0 0 0 1 0 1 1 0 0 1 0 0 1 1 0 0]\n",
      "Bob's first chosen basis = 0\n"
     ]
    }
   ],
   "source": [
    "## Step 3\n",
    "# Decide which basis to measure in:\n",
    "bob_bases = randint(2, size=n)\n",
    "bob_results = measure_message(message, bob_bases)\n",
    "print(bob_bases)\n",
    "print(\"Bob's first chosen basis = %i\" % bob_bases[0])"
   ]
  },
  {
   "cell_type": "code",
   "execution_count": 15,
   "id": "a9e3268f",
   "metadata": {},
   "outputs": [],
   "source": [
    "def remove_garbage(a_bases, b_bases, bits):\n",
    "    good_bits = []\n",
    "    for q in range(n):\n",
    "        if a_bases[q] == b_bases[q]:\n",
    "            # If both used the same basis, add\n",
    "            # this to the list of 'good' bits\n",
    "            good_bits.append(bits[q])\n",
    "    return good_bits"
   ]
  },
  {
   "cell_type": "code",
   "execution_count": 16,
   "id": "8fe053ad",
   "metadata": {},
   "outputs": [
    {
     "name": "stdout",
     "output_type": "stream",
     "text": [
      "[0, 0, 1, 1, 1, 1, 0, 1, 0, 0, 1, 1, 1, 1, 1, 1, 0, 0, 1, 0, 1, 0, 1, 1, 0, 0, 0, 0, 1, 0, 1, 0, 0, 1, 1, 1, 0, 1, 0, 1, 1, 1, 1, 1, 0, 1, 1, 0]\n",
      "[0, 0, 0, 0, 0, 1, 0, 1, 1, 0, 1, 1, 1, 1, 1, 1, 1, 1, 1, 0, 1, 1, 0, 0, 0, 1, 0, 0, 0, 0, 1, 1, 0, 1, 0, 1, 0, 1, 0, 0, 0, 1, 1, 1, 0, 0, 1, 0]\n"
     ]
    }
   ],
   "source": [
    "## Step 4\n",
    "# Remove bits where Alice's chosen bases are not equal to that of Bob's\n",
    "alice_key = remove_garbage(alice_bases, bob_bases, alice_bits)\n",
    "bob_key = remove_garbage(alice_bases, bob_bases, bob_results)\n",
    "print(alice_key)\n",
    "print(bob_key)"
   ]
  },
  {
   "cell_type": "code",
   "execution_count": 17,
   "id": "e9f56c86",
   "metadata": {},
   "outputs": [],
   "source": [
    "def sample_bits(bits, selection):\n",
    "    sample = []\n",
    "    for i in selection:\n",
    "        # use np.mod to make sure the\n",
    "        # bit we sample is always in \n",
    "        # the list range\n",
    "        i = np.mod(i, len(bits))\n",
    "        # pop(i) removes the element of the\n",
    "        # list at index 'i'\n",
    "        sample.append(bits.pop(i))\n",
    "    return sample"
   ]
  },
  {
   "cell_type": "code",
   "execution_count": 26,
   "id": "d5c226c3",
   "metadata": {
    "scrolled": false
   },
   "outputs": [
    {
     "name": "stderr",
     "output_type": "stream",
     "text": [
      "  0%|                                                                                         | 0/3000 [00:00<?, ?it/s]C:\\Users\\User\\AppData\\Local\\Temp\\ipykernel_37440\\3283502570.py:18: DeprecationWarning: The QuantumCircuit.u3 method is deprecated as of 0.16.0. It will be removed no earlier than 3 months after the release date. You should use QuantumCircuit.u instead, which acts identically. Alternatively, you can decompose u3 in terms of QuantumCircuit.p and QuantumCircuit.sx: u3(ϴ,φ,λ) = p(φ+π) sx p(ϴ+π) sx p(λ) (2 pulses on hardware).\n",
      "  qc.u3(pi/2, pi/2, pi, 0)\n",
      "C:\\Users\\User\\AppData\\Local\\Temp\\ipykernel_37440\\3283502570.py:21: DeprecationWarning: The QuantumCircuit.u3 method is deprecated as of 0.16.0. It will be removed no earlier than 3 months after the release date. You should use QuantumCircuit.u instead, which acts identically. Alternatively, you can decompose u3 in terms of QuantumCircuit.p and QuantumCircuit.sx: u3(ϴ,φ,λ) = p(φ+π) sx p(ϴ+π) sx p(λ) (2 pulses on hardware).\n",
      "  qc.u3(pi/2, pi/2, pi, 0)\n",
      "C:\\Users\\User\\AppData\\Local\\Temp\\ipykernel_37440\\1275788202.py:5: DeprecationWarning: The QuantumCircuit.u3 method is deprecated as of 0.16.0. It will be removed no earlier than 3 months after the release date. You should use QuantumCircuit.u instead, which acts identically. Alternatively, you can decompose u3 in terms of QuantumCircuit.p and QuantumCircuit.sx: u3(ϴ,φ,λ) = p(φ+π) sx p(ϴ+π) sx p(λ) (2 pulses on hardware).\n",
      "  message[q].u3(-acos(1/(3**(1/2))), -pi, -pi/4, 0)\n",
      "C:\\Users\\User\\AppData\\Local\\Temp\\ipykernel_37440\\1275788202.py:7: DeprecationWarning: The QuantumCircuit.u3 method is deprecated as of 0.16.0. It will be removed no earlier than 3 months after the release date. You should use QuantumCircuit.u instead, which acts identically. Alternatively, you can decompose u3 in terms of QuantumCircuit.p and QuantumCircuit.sx: u3(ϴ,φ,λ) = p(φ+π) sx p(ϴ+π) sx p(λ) (2 pulses on hardware).\n",
      "  message[q].u3(acos(1/(3**(1/2))), pi/4, pi, 0)\n",
      "C:\\Users\\User\\AppData\\Local\\Temp\\ipykernel_37440\\516508206.py:11: DeprecationWarning: The QuantumCircuit.u3 method is deprecated as of 0.16.0. It will be removed no earlier than 3 months after the release date. You should use QuantumCircuit.u instead, which acts identically. Alternatively, you can decompose u3 in terms of QuantumCircuit.p and QuantumCircuit.sx: u3(ϴ,φ,λ) = p(φ+π) sx p(ϴ+π) sx p(λ) (2 pulses on hardware).\n",
      "  message[q].u3(pi/2, 0, pi/2, 0)\n",
      "100%|██████████████████████████████████████████████████████████████████████████████| 3000/3000 [20:04<00:00,  2.49it/s]"
     ]
    },
    {
     "name": "stdout",
     "output_type": "stream",
     "text": [
      "Successfully interception probability is :  0.17766666666666667\n",
      "4.734333333333334\n"
     ]
    },
    {
     "name": "stderr",
     "output_type": "stream",
     "text": [
      "\n"
     ]
    }
   ],
   "source": [
    "# bonus : open 6 part ; close 6 part\n",
    "\n",
    "interception_success = 0\n",
    "try_inter = 3000\n",
    "np.random.seed(seed=123)\n",
    "_bit = 0\n",
    "\n",
    "for i in tqdm(range(try_inter)):\n",
    "    n = 30;\n",
    "    # number of qubits used in the BB84\n",
    "    ## Step 1\n",
    "    # Alice generates bits\n",
    "    alice_bits = randint(2, size=n)\n",
    "\n",
    "    ## Step 2\n",
    "    # Create an array to tell us which qubits are encoded in which bases\n",
    "#     alice_bases = randint(2, size=n)\n",
    "    \n",
    "#     *** bonus ***\n",
    "    alice_bases = randint(3, size=n)\n",
    "#     *************\n",
    "    \n",
    "#     message = encode_message(alice_bits, alice_bases)\n",
    "    \n",
    "#     *** bonus ***\n",
    "    message = encode_message_bonus(alice_bits, alice_bases)\n",
    "#     *************\n",
    "\n",
    "    ## Interception!!\n",
    "#     eve_bases = randint(2, size=n)\n",
    "    \n",
    "#     *** bonus ***\n",
    "    eve_bases = randint(3, size=n)\n",
    "#     *************\n",
    "    \n",
    "#     intercepted_message = intercept_message(message, eve_bases)\n",
    "#     intercepted_message = intercept_message_v2(message, eve_bases)\n",
    "    \n",
    "#     *** bonus ***\n",
    "#     intercepted_message = intercept_message_bonus(message, eve_bases)\n",
    "    intercepted_message = intercept_message_bonus_v2(message, eve_bases)\n",
    "#     *************\n",
    "\n",
    "    ## Step 3\n",
    "    # Decide which basis to measure in:\n",
    "#     bob_bases = randint(2, size=n)\n",
    "#     bob_results = measure_message(message, bob_bases)\n",
    "    \n",
    "#     *** bonus ***\n",
    "    bob_bases = randint(3, size=n)\n",
    "#     *************\n",
    "#     *** bonus ***\n",
    "    bob_results = measure_message_bonus(message, bob_bases)\n",
    "#     *************\n",
    "\n",
    "    ## Step 4\n",
    "    # Remove bits where Alice's chosen bases are not equal to that of Bob's\n",
    "    alice_key = remove_garbage(alice_bases, bob_bases, alice_bits)\n",
    "    bob_key = remove_garbage(alice_bases, bob_bases, bob_results)\n",
    "\n",
    "    sample_size = int(len(alice_key)/2)\n",
    "    _bit += sample_size\n",
    "#     print(sample_size)\n",
    "                    # Change this to something lower and see if\n",
    "                    # Eve can intercept the message without Alice\n",
    "                    # and Bob finding out\n",
    "    bit_selection = randint(n, size=sample_size)\n",
    "    bob_sample = sample_bits(bob_key, bit_selection)\n",
    "    alice_sample = sample_bits(alice_key, bit_selection)\n",
    "\n",
    "    if alice_sample == bob_sample:\n",
    "        interception_success += 1\n",
    "        \n",
    "print(\"Successfully interception probability is : \", interception_success/try_inter)\n",
    "print(_bit/try_inter)"
   ]
  },
  {
   "cell_type": "code",
   "execution_count": 25,
   "id": "ca12d59b",
   "metadata": {},
   "outputs": [
    {
     "name": "stdout",
     "output_type": "stream",
     "text": [
      "0.6698613789812733\n"
     ]
    }
   ],
   "source": [
    "print(0.39**(1/2.35))"
   ]
  }
 ],
 "metadata": {
  "kernelspec": {
   "display_name": "Python 3 (ipykernel)",
   "language": "python",
   "name": "python3"
  },
  "language_info": {
   "codemirror_mode": {
    "name": "ipython",
    "version": 3
   },
   "file_extension": ".py",
   "mimetype": "text/x-python",
   "name": "python",
   "nbconvert_exporter": "python",
   "pygments_lexer": "ipython3",
   "version": "3.10.4"
  },
  "toc": {
   "base_numbering": 1,
   "nav_menu": {},
   "number_sections": true,
   "sideBar": true,
   "skip_h1_title": false,
   "title_cell": "Table of Contents",
   "title_sidebar": "Contents",
   "toc_cell": false,
   "toc_position": {},
   "toc_section_display": true,
   "toc_window_display": false
  }
 },
 "nbformat": 4,
 "nbformat_minor": 5
}
